{
 "cells": [
  {
   "cell_type": "code",
   "execution_count": 1,
   "id": "fixed-credits",
   "metadata": {},
   "outputs": [],
   "source": [
    "from pathlib import Path\n",
    "from tqdm import tqdm\n",
    "import numpy as np\n",
    "import json\n",
    "import urllib\n",
    "import PIL.Image as Image\n",
    "import cv2\n",
    "import torch\n",
    "import torchvision\n",
    "from IPython.display import display\n",
    "from sklearn.model_selection import train_test_split\n",
    "import seaborn as sns\n",
    "from pylab import rcParams\n",
    "import matplotlib.pyplot as plt\n",
    "from matplotlib import rc"
   ]
  },
  {
   "cell_type": "code",
   "execution_count": 7,
   "id": "spread-cooling",
   "metadata": {},
   "outputs": [
    {
     "ename": "KeyError",
     "evalue": "1",
     "output_type": "error",
     "traceback": [
      "\u001b[1;31m---------------------------------------------------------------------------\u001b[0m",
      "\u001b[1;31mKeyError\u001b[0m                                  Traceback (most recent call last)",
      "\u001b[1;32m<ipython-input-7-0120c0c9d314>\u001b[0m in \u001b[0;36m<module>\u001b[1;34m\u001b[0m\n\u001b[0;32m      1\u001b[0m \u001b[0md\u001b[0m \u001b[1;33m=\u001b[0m \u001b[1;33m{\u001b[0m\u001b[1;34m'puffed food'\u001b[0m\u001b[1;33m:\u001b[0m\u001b[1;36m1\u001b[0m\u001b[1;33m,\u001b[0m\u001b[1;34m'puffed food1'\u001b[0m\u001b[1;33m:\u001b[0m\u001b[1;36m3\u001b[0m\u001b[1;33m}\u001b[0m\u001b[1;33m\u001b[0m\u001b[1;33m\u001b[0m\u001b[0m\n\u001b[0;32m      2\u001b[0m \u001b[0md\u001b[0m\u001b[1;33m[\u001b[0m\u001b[1;34m'puffed food'\u001b[0m\u001b[1;33m]\u001b[0m \u001b[1;33m+=\u001b[0m \u001b[1;36m1\u001b[0m\u001b[1;33m\u001b[0m\u001b[1;33m\u001b[0m\u001b[0m\n\u001b[1;32m----> 3\u001b[1;33m \u001b[0md\u001b[0m\u001b[1;33m[\u001b[0m\u001b[1;36m1\u001b[0m\u001b[1;33m]\u001b[0m\u001b[1;33m\u001b[0m\u001b[1;33m\u001b[0m\u001b[0m\n\u001b[0m",
      "\u001b[1;31mKeyError\u001b[0m: 1"
     ]
    }
   ],
   "source": [
    "d = {'puffed food':1,'puffed food1':3}\n",
    "d['puffed food'] += 1\n",
    "d[1]"
   ]
  },
  {
   "cell_type": "code",
   "execution_count": 17,
   "id": "confident-sewing",
   "metadata": {},
   "outputs": [],
   "source": [
    "import os\n",
    "import glob\n",
    "\n",
    "#Documents/backup DSPD/yolov5/inference/images/20180824-14-08-08-415.jpg\n",
    "files = glob.glob('inference/images/*.jpg')\n",
    "\n",
    "if files != []:\n",
    "    for f in files:\n",
    "        try:\n",
    "            os.remove(f)\n",
    "        except OSError as e:\n",
    "            print(\"Error: %s : %s\" % (f, e.strerror))"
   ]
  },
  {
   "cell_type": "code",
   "execution_count": 18,
   "id": "irish-latino",
   "metadata": {},
   "outputs": [
    {
     "ename": "ImportError",
     "evalue": "cannot import name 'execute_pipeline' from partially initialized module 'dagster' (most likely due to a circular import) (C:\\Users\\Babar\\Documents\\backup DSPD\\yolov5\\dagster.py)",
     "output_type": "error",
     "traceback": [
      "\u001b[1;31m---------------------------------------------------------------------------\u001b[0m",
      "\u001b[1;31mImportError\u001b[0m                               Traceback (most recent call last)",
      "\u001b[1;32m<ipython-input-18-18dad0e49c5e>\u001b[0m in \u001b[0;36m<module>\u001b[1;34m\u001b[0m\n\u001b[1;32m----> 1\u001b[1;33m \u001b[1;32mfrom\u001b[0m \u001b[0mdagster\u001b[0m \u001b[1;32mimport\u001b[0m \u001b[0mexecute_pipeline\u001b[0m\u001b[1;33m,\u001b[0m \u001b[0mpipeline\u001b[0m\u001b[1;33m,\u001b[0m \u001b[0msolid\u001b[0m\u001b[1;33m\u001b[0m\u001b[1;33m\u001b[0m\u001b[0m\n\u001b[0m",
      "\u001b[1;32m~\\Documents\\backup DSPD\\yolov5\\dagster.py\u001b[0m in \u001b[0;36m<module>\u001b[1;34m\u001b[0m\n\u001b[0;32m     11\u001b[0m \u001b[1;33m\u001b[0m\u001b[0m\n\u001b[0;32m     12\u001b[0m \u001b[1;31m# Commented out IPython magic to ensure Python compatibility.\u001b[0m\u001b[1;33m\u001b[0m\u001b[1;33m\u001b[0m\u001b[1;33m\u001b[0m\u001b[0m\n\u001b[1;32m---> 13\u001b[1;33m \u001b[1;32mfrom\u001b[0m \u001b[0mdagster\u001b[0m \u001b[1;32mimport\u001b[0m \u001b[0mexecute_pipeline\u001b[0m\u001b[1;33m,\u001b[0m \u001b[0mpipeline\u001b[0m\u001b[1;33m,\u001b[0m \u001b[0msolid\u001b[0m\u001b[1;33m\u001b[0m\u001b[1;33m\u001b[0m\u001b[0m\n\u001b[0m\u001b[0;32m     14\u001b[0m \u001b[1;33m\u001b[0m\u001b[0m\n\u001b[0;32m     15\u001b[0m \u001b[1;33m@\u001b[0m\u001b[0msolid\u001b[0m\u001b[1;33m\u001b[0m\u001b[1;33m\u001b[0m\u001b[0m\n",
      "\u001b[1;31mImportError\u001b[0m: cannot import name 'execute_pipeline' from partially initialized module 'dagster' (most likely due to a circular import) (C:\\Users\\Babar\\Documents\\backup DSPD\\yolov5\\dagster.py)"
     ]
    }
   ],
   "source": [
    "from dagster import execute_pipeline, pipeline, solid"
   ]
  },
  {
   "cell_type": "code",
   "execution_count": 14,
   "id": "compatible-fairy",
   "metadata": {},
   "outputs": [],
   "source": [
    "def load_image(img_path: Path, resize = True):\n",
    "    img = cv2.cvtColor(cv2.imread(str(img_path)), cv2.COLOR_BGR2RGB)\n",
    "    img = cv2.resize(img, (128,256), interpolation = cv2.INTER_AREA)\n",
    "    return img\n",
    "def show_grid(image_paths):\n",
    "    print(len(image_paths))\n",
    "    images = [load_image(img) for img in image_paths]\n",
    "    images = torch.as_tensor(images)\n",
    "    print(images.shape)\n",
    "    images = images.permute(0, 3, 1, 2)\n",
    "    grid_img = torchvision.utils.make_grid(images, nrow = 22)\n",
    "    plt.figure(figsize=(24,12))\n",
    "    plt.imshow(grid_img.permute(1, 2, 0))\n",
    "    plt.axis('off')"
   ]
  },
  {
   "cell_type": "code",
   "execution_count": 18,
   "id": "black-gothic",
   "metadata": {},
   "outputs": [
    {
     "name": "stdout",
     "output_type": "stream",
     "text": [
      "[]\n",
      "0\n",
      "torch.Size([0])\n"
     ]
    },
    {
     "ename": "RuntimeError",
     "evalue": "number of dims don't match in permute",
     "output_type": "error",
     "traceback": [
      "\u001b[1;31m---------------------------------------------------------------------------\u001b[0m",
      "\u001b[1;31mRuntimeError\u001b[0m                              Traceback (most recent call last)",
      "\u001b[1;32m<ipython-input-18-e0ddee04e2f9>\u001b[0m in \u001b[0;36m<module>\u001b[1;34m\u001b[0m\n\u001b[0;32m      1\u001b[0m \u001b[0mimg_paths\u001b[0m \u001b[1;33m=\u001b[0m \u001b[0mlist\u001b[0m\u001b[1;33m(\u001b[0m\u001b[0mPath\u001b[0m\u001b[1;33m(\u001b[0m\u001b[1;34m\"inference/output\"\u001b[0m\u001b[1;33m)\u001b[0m\u001b[1;33m.\u001b[0m\u001b[0mglob\u001b[0m\u001b[1;33m(\u001b[0m\u001b[1;34m\"*.jpg\"\u001b[0m\u001b[1;33m)\u001b[0m\u001b[1;33m)\u001b[0m\u001b[1;33m[\u001b[0m\u001b[1;33m:\u001b[0m\u001b[1;36m22\u001b[0m\u001b[1;33m]\u001b[0m\u001b[1;33m\u001b[0m\u001b[1;33m\u001b[0m\u001b[0m\n\u001b[0;32m      2\u001b[0m \u001b[0mprint\u001b[0m\u001b[1;33m(\u001b[0m\u001b[0mimg_paths\u001b[0m\u001b[1;33m)\u001b[0m\u001b[1;33m\u001b[0m\u001b[1;33m\u001b[0m\u001b[0m\n\u001b[1;32m----> 3\u001b[1;33m \u001b[0mshow_grid\u001b[0m\u001b[1;33m(\u001b[0m\u001b[0mimg_paths\u001b[0m\u001b[1;33m)\u001b[0m\u001b[1;33m\u001b[0m\u001b[1;33m\u001b[0m\u001b[0m\n\u001b[0m",
      "\u001b[1;32m<ipython-input-14-e1cf3feb0299>\u001b[0m in \u001b[0;36mshow_grid\u001b[1;34m(image_paths)\u001b[0m\n\u001b[0;32m      8\u001b[0m     \u001b[0mimages\u001b[0m \u001b[1;33m=\u001b[0m \u001b[0mtorch\u001b[0m\u001b[1;33m.\u001b[0m\u001b[0mas_tensor\u001b[0m\u001b[1;33m(\u001b[0m\u001b[0mimages\u001b[0m\u001b[1;33m)\u001b[0m\u001b[1;33m\u001b[0m\u001b[1;33m\u001b[0m\u001b[0m\n\u001b[0;32m      9\u001b[0m     \u001b[0mprint\u001b[0m\u001b[1;33m(\u001b[0m\u001b[0mimages\u001b[0m\u001b[1;33m.\u001b[0m\u001b[0mshape\u001b[0m\u001b[1;33m)\u001b[0m\u001b[1;33m\u001b[0m\u001b[1;33m\u001b[0m\u001b[0m\n\u001b[1;32m---> 10\u001b[1;33m     \u001b[0mimages\u001b[0m \u001b[1;33m=\u001b[0m \u001b[0mimages\u001b[0m\u001b[1;33m.\u001b[0m\u001b[0mpermute\u001b[0m\u001b[1;33m(\u001b[0m\u001b[1;36m0\u001b[0m\u001b[1;33m,\u001b[0m \u001b[1;36m3\u001b[0m\u001b[1;33m,\u001b[0m \u001b[1;36m1\u001b[0m\u001b[1;33m,\u001b[0m \u001b[1;36m2\u001b[0m\u001b[1;33m)\u001b[0m\u001b[1;33m\u001b[0m\u001b[1;33m\u001b[0m\u001b[0m\n\u001b[0m\u001b[0;32m     11\u001b[0m     \u001b[0mgrid_img\u001b[0m \u001b[1;33m=\u001b[0m \u001b[0mtorchvision\u001b[0m\u001b[1;33m.\u001b[0m\u001b[0mutils\u001b[0m\u001b[1;33m.\u001b[0m\u001b[0mmake_grid\u001b[0m\u001b[1;33m(\u001b[0m\u001b[0mimages\u001b[0m\u001b[1;33m,\u001b[0m \u001b[0mnrow\u001b[0m \u001b[1;33m=\u001b[0m \u001b[1;36m22\u001b[0m\u001b[1;33m)\u001b[0m\u001b[1;33m\u001b[0m\u001b[1;33m\u001b[0m\u001b[0m\n\u001b[0;32m     12\u001b[0m     \u001b[0mplt\u001b[0m\u001b[1;33m.\u001b[0m\u001b[0mfigure\u001b[0m\u001b[1;33m(\u001b[0m\u001b[0mfigsize\u001b[0m\u001b[1;33m=\u001b[0m\u001b[1;33m(\u001b[0m\u001b[1;36m24\u001b[0m\u001b[1;33m,\u001b[0m\u001b[1;36m12\u001b[0m\u001b[1;33m)\u001b[0m\u001b[1;33m)\u001b[0m\u001b[1;33m\u001b[0m\u001b[1;33m\u001b[0m\u001b[0m\n",
      "\u001b[1;31mRuntimeError\u001b[0m: number of dims don't match in permute"
     ]
    }
   ],
   "source": [
    "img_paths = list(Path(\"inference/output\").glob(\"*.jpg\"))[:22]\n",
    "print(img_paths)\n",
    "show_grid(img_paths)"
   ]
  },
  {
   "cell_type": "code",
   "execution_count": 1,
   "id": "comparative-upgrade",
   "metadata": {},
   "outputs": [],
   "source": [
    "import detect"
   ]
  },
  {
   "cell_type": "code",
   "execution_count": 7,
   "id": "stone-director",
   "metadata": {},
   "outputs": [
    {
     "name": "stdout",
     "output_type": "stream",
     "text": [
      "Namespace(agnostic_nms=False, augment=False, classes=None, conf_thres=0.4, device='', img_size=640, iou_thres=0.5, output='inference/output', save_txt=False, source='./inference/images/', update=False, view_img=False, weights=['weights/best_yolo5l_clothing.pt'])\n",
      "Fusing layers... \n",
      "image 1/23 C:\\Users\\Babar\\Documents\\backup DSPD\\yolov5\\inference\\images\\20180827-15-13-35-709.jpg: tensor([[3.46000e+02, 7.10000e+02, 1.27400e+03, 1.55100e+03, 8.47578e-01, 6.00000e+00]], device='cuda:0')\n",
      "640x640 1 '7_puffed_food's, abcd Done. (0.065s)\n",
      "image 2/23 C:\\Users\\Babar\\Documents\\backup DSPD\\yolov5\\inference\\images\\20180827-15-14-10-710.jpg: tensor([[8.64000e+02, 2.96000e+02, 1.47900e+03, 7.73000e+02, 8.96378e-01, 1.00000e+00],\n",
      "        [1.38000e+03, 9.26000e+02, 1.80800e+03, 1.41200e+03, 6.75452e-01, 5.00000e+00]], device='cuda:0')\n",
      "640x640 1 2_puffed_foods, abcd 1 '6_puffed_food's, abcd Done. (0.059s)\n",
      "image 3/23 C:\\Users\\Babar\\Documents\\backup DSPD\\yolov5\\inference\\images\\20180827-15-20-16-259.jpg: tensor([[6.06000e+02, 6.34000e+02, 1.26200e+03, 1.36100e+03, 6.22940e-01, 7.00000e+00]], device='cuda:0')\n",
      "640x640 1 '8_puffed_food's, abcd Done. (0.060s)\n",
      "image 4/23 C:\\Users\\Babar\\Documents\\backup DSPD\\yolov5\\inference\\images\\20180827-15-20-23-259.jpg: 640x640 Done. (0.057s)\n",
      "image 5/23 C:\\Users\\Babar\\Documents\\backup DSPD\\yolov5\\inference\\images\\20180827-15-21-22-260.jpg: 640x640 Done. (0.058s)\n",
      "image 6/23 C:\\Users\\Babar\\Documents\\backup DSPD\\yolov5\\inference\\images\\20180827-15-21-38-260.jpg: tensor([[5.49000e+02, 1.30000e+02, 1.62100e+03, 1.27000e+03, 4.75846e-01, 5.00000e+00]], device='cuda:0')\n",
      "640x640 1 '6_puffed_food's, abcd Done. (0.056s)\n",
      "image 7/23 C:\\Users\\Babar\\Documents\\backup DSPD\\yolov5\\inference\\images\\20180827-15-25-24-720.jpg: 640x640 Done. (0.056s)\n",
      "image 8/23 C:\\Users\\Babar\\Documents\\backup DSPD\\yolov5\\inference\\images\\20180827-15-29-04-264.jpg: 640x640 Done. (0.060s)\n",
      "image 9/23 C:\\Users\\Babar\\Documents\\backup DSPD\\yolov5\\inference\\images\\20180827-15-29-29-723.jpg: tensor([[5.88000e+02, 9.98000e+02, 9.46000e+02, 1.29200e+03, 5.59959e-01, 8.00000e+00],\n",
      "        [8.76000e+02, 9.19000e+02, 1.77600e+03, 1.54400e+03, 4.36506e-01, 9.00000e+00],\n",
      "        [3.31000e+02, 1.26700e+03, 5.63000e+02, 1.64200e+03, 4.02199e-01, 7.00000e+00]], device='cuda:0')\n",
      "640x640 1 '8_puffed_food's, abcd 1 '9_puffed_food's, abcd 1 '10_puffed_food's, abcd Done. (0.059s)\n",
      "image 10/23 C:\\Users\\Babar\\Documents\\backup DSPD\\yolov5\\inference\\images\\20180827-15-33-35-268.jpg: 640x640 Done. (0.057s)\n",
      "image 11/23 C:\\Users\\Babar\\Documents\\backup DSPD\\yolov5\\inference\\images\\20180827-15-33-44-268.jpg: 640x640 Done. (0.056s)\n",
      "image 12/23 C:\\Users\\Babar\\Documents\\backup DSPD\\yolov5\\inference\\images\\20180827-15-35-08-270.jpg: 640x640 Done. (0.055s)\n",
      "image 13/23 C:\\Users\\Babar\\Documents\\backup DSPD\\yolov5\\inference\\images\\20180827-15-37-24-727.jpg: tensor([[1.37000e+03, 9.68000e+02, 1.71600e+03, 1.27800e+03, 8.61903e-01, 4.00000e+00],\n",
      "        [3.10000e+02, 3.80000e+02, 1.15000e+03, 9.91000e+02, 7.89948e-01, 8.00000e+00]], device='cuda:0')\n",
      "640x640 1 '5_puffed_food's, abcd 1 '9_puffed_food's, abcd Done. (0.059s)\n",
      "image 14/23 C:\\Users\\Babar\\Documents\\backup DSPD\\yolov5\\inference\\images\\20180827-15-37-29-727.jpg: tensor([[1.07500e+03, 8.28000e+02, 1.41700e+03, 1.14200e+03, 8.75550e-01, 9.00000e+00]], device='cuda:0')\n",
      "640x640 1 '10_puffed_food's, abcd Done. (0.060s)\n",
      "image 15/23 C:\\Users\\Babar\\Documents\\backup DSPD\\yolov5\\inference\\images\\20180827-15-38-27-272.jpg: tensor([[4.62000e+02, 3.40000e+01, 1.49100e+03, 9.64000e+02, 5.32966e-01, 7.00000e+00]], device='cuda:0')\n",
      "640x640 1 '8_puffed_food's, abcd Done. (0.057s)\n",
      "image 16/23 C:\\Users\\Babar\\Documents\\backup DSPD\\yolov5\\inference\\images\\20180827-15-38-56-729.jpg: tensor([[8.00000e+00, 5.41000e+02, 5.14000e+02, 9.60000e+02, 7.60500e-01, 2.00000e+00],\n",
      "        [2.27000e+02, 8.23000e+02, 1.14900e+03, 1.82800e+03, 4.69612e-01, 4.00000e+00]], device='cuda:0')\n",
      "640x640 1 3_puffed_foods, abcd 1 '5_puffed_food's, abcd Done. (0.059s)\n",
      "image 17/23 C:\\Users\\Babar\\Documents\\backup DSPD\\yolov5\\inference\\images\\20180827-15-39-02-729.jpg: tensor([[2.41000e+02, 9.48000e+02, 9.75000e+02, 1.83400e+03, 5.05887e-01, 5.00000e+00]], device='cuda:0')\n",
      "640x640 1 '6_puffed_food's, abcd Done. (0.059s)\n",
      "image 18/23 C:\\Users\\Babar\\Documents\\backup DSPD\\yolov5\\inference\\images\\20180827-15-39-03-273.jpg: tensor([[3.59000e+02, 5.75000e+02, 8.75000e+02, 1.09300e+03, 7.30122e-01, 1.00000e+01]], device='cuda:0')\n",
      "640x640 1 ghjhs, abcd Done. (0.060s)\n",
      "image 19/23 C:\\Users\\Babar\\Documents\\backup DSPD\\yolov5\\inference\\images\\20180827-15-39-42-730.jpg: tensor([[3.71000e+02, 4.45000e+02, 8.10000e+02, 9.13000e+02, 4.83558e-01, 7.00000e+00],\n",
      "        [4.30000e+02, 8.40000e+02, 1.28200e+03, 1.85500e+03, 4.57246e-01, 4.00000e+00]], device='cuda:0')\n",
      "640x640 1 '5_puffed_food's, abcd 1 '8_puffed_food's, abcd Done. (0.061s)\n",
      "image 20/23 C:\\Users\\Babar\\Documents\\backup DSPD\\yolov5\\inference\\images\\20180827-15-41-07-274.jpg: 640x640 Done. (0.056s)\n",
      "image 21/23 C:\\Users\\Babar\\Documents\\backup DSPD\\yolov5\\inference\\images\\20180827-15-41-14-274.jpg: 640x640 Done. (0.061s)\n",
      "image 22/23 C:\\Users\\Babar\\Documents\\backup DSPD\\yolov5\\inference\\images\\20180827-15-41-22-274.jpg: 640x640 Done. (0.057s)\n",
      "image 23/23 C:\\Users\\Babar\\Documents\\backup DSPD\\yolov5\\inference\\images\\20180827-15-41-58-732.jpg: tensor([[9.00000e+00, 6.14000e+02, 6.12000e+02, 1.08100e+03, 8.62950e-01, 1.00000e+00],\n",
      "        [7.83000e+02, 1.34600e+03, 1.29900e+03, 1.85200e+03, 8.01394e-01, 5.00000e+00],\n",
      "        [1.23400e+03, 2.79000e+02, 1.72800e+03, 1.14700e+03, 6.37458e-01, 5.00000e+00],\n",
      "        [7.10000e+01, 1.09000e+03, 4.54000e+02, 1.56900e+03, 5.91593e-01, 5.00000e+00],\n",
      "        [6.29000e+02, 6.01000e+02, 1.02200e+03, 1.15200e+03, 5.51065e-01, 3.00000e+00]], device='cuda:0')\n",
      "640x640 1 2_puffed_foods, abcd 1 '4_puffed_food's, abcd 3 '6_puffed_food's, abcd Done. (0.061s)\n",
      "Results saved to inference\\output\n",
      "Done. (4.900s)\n"
     ]
    },
    {
     "name": "stderr",
     "output_type": "stream",
     "text": [
      "Using CUDA device0 _CudaDeviceProperties(name='NVIDIA GeForce RTX 2060 with Max-Q Design', total_memory=6144MB)\n",
      "\n",
      "Model Summary: 236 layers, 4.74185e+07 parameters, 4.48868e+07 gradients\n"
     ]
    }
   ],
   "source": [
    "!python detect.py --weights weights/best_yolo5l_clothing.pt \\\n",
    "  --img 640 --conf 0.4 --source ./inference/images/"
   ]
  }
 ],
 "metadata": {
  "kernelspec": {
   "display_name": "Python 3.7 (pytorch)",
   "language": "python",
   "name": "pytorch"
  },
  "language_info": {
   "codemirror_mode": {
    "name": "ipython",
    "version": 3
   },
   "file_extension": ".py",
   "mimetype": "text/x-python",
   "name": "python",
   "nbconvert_exporter": "python",
   "pygments_lexer": "ipython3",
   "version": "3.8.8"
  }
 },
 "nbformat": 4,
 "nbformat_minor": 5
}

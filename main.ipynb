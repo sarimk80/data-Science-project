{
 "metadata": {
  "language_info": {
   "codemirror_mode": {
    "name": "ipython",
    "version": 3
   },
   "file_extension": ".py",
   "mimetype": "text/x-python",
   "name": "python",
   "nbconvert_exporter": "python",
   "pygments_lexer": "ipython3",
   "version": "3.9.1-final"
  },
  "orig_nbformat": 2,
  "kernelspec": {
   "name": "python3",
   "display_name": "Python 3.9.1 64-bit",
   "metadata": {
    "interpreter": {
     "hash": "aee8b7b246df8f9039afb4144a1f6fd8d2ca17a180786b69acc140d282b71a49"
    }
   }
  }
 },
 "nbformat": 4,
 "nbformat_minor": 2,
 "cells": [
  {
   "cell_type": "code",
   "execution_count": 28,
   "metadata": {},
   "outputs": [],
   "source": [
    "from azure.cosmos import exceptions, CosmosClient, PartitionKey\n",
    "import azure.cosmos.errors as errors\n",
    "import images"
   ]
  },
  {
   "cell_type": "code",
   "execution_count": 29,
   "metadata": {},
   "outputs": [],
   "source": [
    "endpoint = \"https://dspd.mongo.cosmos.azure.com:443\"\n",
    "key = 'TvMwSIR2aV2yUV5NFhi4KQy3oRkYDBkIIaXZ8N5lC8FdJ9g1C1NcRF4OpAAmt5NNxj2bYhQzPGMaHdTz3kdf8w=='"
   ]
  },
  {
   "cell_type": "code",
   "execution_count": 30,
   "metadata": {},
   "outputs": [],
   "source": [
    "client = CosmosClient(endpoint, key)\n"
   ]
  },
  {
   "cell_type": "code",
   "execution_count": 34,
   "metadata": {},
   "outputs": [
    {
     "output_type": "stream",
     "name": "stdout",
     "text": [
      "<bound method CosmosClient.get_database_account of <CosmosClient [https://dspd.mongo.cosmos.azure.com:443]>>\n<attribute 'args' of 'BaseException' objects>\n<attribute 'args' of 'BaseException' objects>\n"
     ]
    }
   ],
   "source": [
    "database_name='database'\n",
    "try:\n",
    "    database=client.create_database_if_not_exists(id=database_name)\n",
    "except errors.HttpResponseError:\n",
    "    database = client.get_database_account\n",
    "    print(database)\n",
    "    print(errors.HttpResponseError.args)\n",
    "    print(errors.AzureError.args)"
   ]
  },
  {
   "cell_type": "code",
   "execution_count": null,
   "metadata": {},
   "outputs": [],
   "source": []
  }
 ]
}
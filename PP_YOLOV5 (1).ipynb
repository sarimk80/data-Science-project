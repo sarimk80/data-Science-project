{
  "cells": [
    {
      "cell_type": "code",
      "source": [
        "pip install git+https://github.com/cocodataset/cocoapi.git#subdirectory=PythonAPI"
      ],
      "outputs": [],
      "execution_count": null,
      "metadata": {},
      "id": "ea5dd9c8-90b7-4eb7-80af-7b316b75f76d"
    },
    {
      "cell_type": "code",
      "source": [
        "pip install gdown"
      ],
      "outputs": [
        {
          "output_type": "stream",
          "name": "stdout",
          "text": [
            "Collecting gdown\n",
            "  Downloading gdown-3.13.0.tar.gz (9.3 kB)\n",
            "  Installing build dependencies ... \u001b[?25l-\b \berror\n",
            "\u001b[31m  ERROR: Command errored out with exit status 1:\n",
            "   command: /anaconda/envs/azureml_py38/bin/python /anaconda/envs/azureml_py38/lib/python3.8/site-packages/pip install --ignore-installed --no-user --prefix /tmp/pip-build-env-5yht2dv5/overlay --no-warn-script-location --no-binary :none: --only-binary :none: -i https://pypi.org/simple -- 'setuptools>=40.8.0' wheel\n",
            "       cwd: None\n",
            "  Complete output (14 lines):\n",
            "  Traceback (most recent call last):\n",
            "    File \"/anaconda/envs/azureml_py38/lib/python3.8/runpy.py\", line 193, in _run_module_as_main\n",
            "      return _run_code(code, main_globals, None,\n",
            "    File \"/anaconda/envs/azureml_py38/lib/python3.8/runpy.py\", line 86, in _run_code\n",
            "      exec(code, run_globals)\n",
            "    File \"/anaconda/envs/azureml_py38/lib/python3.8/site-packages/pip/__main__.py\", line 23, in <module>\n",
            "      from pip._internal.cli.main import main as _main  # isort:skip # noqa\n",
            "    File \"/anaconda/envs/azureml_py38/lib/python3.8/site-packages/pip/_internal/cli/main.py\", line 5, in <module>\n",
            "      import locale\n",
            "    File \"/anaconda/envs/azureml_py38/lib/python3.8/locale.py\", line 16, in <module>\n",
            "      import re\n",
            "    File \"/anaconda/envs/azureml_py38/lib/python3.8/re.py\", line 143, in <module>\n",
            "      class RegexFlag(enum.IntFlag):\n",
            "  AttributeError: module 'enum' has no attribute 'IntFlag'\n",
            "  ----------------------------------------\u001b[0m\n",
            "\u001b[31mERROR: Command errored out with exit status 1: /anaconda/envs/azureml_py38/bin/python /anaconda/envs/azureml_py38/lib/python3.8/site-packages/pip install --ignore-installed --no-user --prefix /tmp/pip-build-env-5yht2dv5/overlay --no-warn-script-location --no-binary :none: --only-binary :none: -i https://pypi.org/simple -- 'setuptools>=40.8.0' wheel Check the logs for full command output.\u001b[0m\n",
            "\u001b[?25hNote: you may need to restart the kernel to use updated packages.\n"
          ]
        }
      ],
      "execution_count": 1,
      "metadata": {
        "gather": {
          "logged": 1622145389724
        }
      },
      "id": "2e08b4cb-fb27-47bb-abc3-2c8354440367"
    },
    {
      "cell_type": "code",
      "source": [
        "from pathlib import Path\n",
        "from tqdm import tqdm\n",
        "import numpy as np\n",
        "import json\n",
        "import urllib\n",
        "import PIL.Image as Image\n",
        "import cv2\n",
        "import torch\n",
        "import torchvision\n",
        "from IPython.display import display\n",
        "from sklearn.model_selection import train_test_split\n",
        "import seaborn as sns\n",
        "from pylab import rcParams\n",
        "import matplotlib.pyplot as plt\n",
        "from matplotlib import rc\n",
        "\n",
        "import pandas as pd"
      ],
      "outputs": [],
      "execution_count": 35,
      "metadata": {
        "gather": {
          "logged": 1622403940657
        }
      },
      "id": "634076df-85b7-42c7-b0da-e7c2a61eb08c"
    },
    {
      "cell_type": "code",
      "source": [
        "# azureml-core of version 1.0.72 or higher is required\r\n",
        "from azureml.core import Workspace, Dataset\r\n",
        "\r\n",
        "subscription_id = '9f1b1678-0b39-4d15-98d4-6e2f53560eca'\r\n",
        "resource_group = 'Test_DSPD'\r\n",
        "workspace_name = 'DSPD_ml'\r\n",
        "\r\n",
        "workspace = Workspace(subscription_id, resource_group, workspace_name)\r\n",
        "\r\n",
        "dataset = Dataset.get_by_name(workspace, name='price_ds')\r\n",
        "dataset.download(target_path='./price', overwrite=True)"
      ],
      "outputs": [
        {
          "output_type": "execute_result",
          "execution_count": 36,
          "data": {
            "text/plain": "['/mnt/batch/tasks/shared/LS_root/mounts/clusters/tesladspd/code/Users/m.zaib.23237/price/price.csv']"
          },
          "metadata": {}
        }
      ],
      "execution_count": 36,
      "metadata": {
        "collapsed": true,
        "jupyter": {
          "source_hidden": false,
          "outputs_hidden": false
        },
        "nteract": {
          "transient": {
            "deleting": false
          }
        },
        "gather": {
          "logged": 1622403946414
        }
      },
      "id": "2dc0a903-e1c7-4965-b691-11b7891a5baa"
    },
    {
      "cell_type": "code",
      "source": [
        "%matplotlib inline\n",
        "%config InlineBackend.figure_format='retina'\n",
        "sns.set(style='whitegrid', palette='muted', font_scale=1.2)\n",
        "rcParams['figure.figsize'] = 16, 10\n",
        "np.random.seed(42)"
      ],
      "outputs": [],
      "execution_count": 3,
      "metadata": {
        "gather": {
          "logged": 1622145423890
        }
      },
      "id": "b806e77d-e3a5-4e95-9d38-d6cda7ea4825"
    },
    {
      "cell_type": "code",
      "source": [
        "pip install boxx"
      ],
      "outputs": [
        {
          "output_type": "stream",
          "name": "stdout",
          "text": [
            "Collecting boxx\n",
            "  Downloading boxx-0.9.3.tar.gz (85 kB)\n",
            "\u001b[K     |████████████████████████████████| 85 kB 273 kB/s  eta 0:00:01\n",
            "\u001b[?25hRequirement already satisfied: numpy in /anaconda/envs/azureml_py36/lib/python3.6/site-packages (from boxx) (1.18.5)\n",
            "Requirement already satisfied: scikit_image in /anaconda/envs/azureml_py36/lib/python3.6/site-packages (from boxx) (0.17.2)\n",
            "Requirement already satisfied: matplotlib in /anaconda/envs/azureml_py36/lib/python3.6/site-packages (from boxx) (3.2.1)\n",
            "Requirement already satisfied: pandas in /anaconda/envs/azureml_py36/lib/python3.6/site-packages (from boxx) (0.25.3)\n",
            "Requirement already satisfied: imageio in /anaconda/envs/azureml_py36/lib/python3.6/site-packages (from boxx) (2.9.0)\n",
            "Collecting py-heat\n",
            "  Downloading py-heat-0.0.6.tar.gz (7.1 kB)\n",
            "Collecting snakeviz\n",
            "  Downloading snakeviz-2.1.0-py2.py3-none-any.whl (282 kB)\n",
            "\u001b[K     |████████████████████████████████| 282 kB 37.8 MB/s eta 0:00:01\n",
            "\u001b[?25hCollecting fn\n",
            "  Downloading fn-0.4.3.tar.gz (38 kB)\n",
            "Collecting pyopengl\n",
            "  Downloading PyOpenGL-3.1.5-py3-none-any.whl (2.4 MB)\n",
            "\u001b[K     |████████████████████████████████| 2.4 MB 66.2 MB/s eta 0:00:01\n",
            "\u001b[?25hRequirement already satisfied: seaborn in /anaconda/envs/azureml_py36/lib/python3.6/site-packages (from boxx) (0.11.1)\n",
            "Requirement already satisfied: tifffile>=2019.7.26 in /anaconda/envs/azureml_py36/lib/python3.6/site-packages (from scikit_image->boxx) (2020.9.3)\n",
            "Requirement already satisfied: PyWavelets>=1.1.1 in /anaconda/envs/azureml_py36/lib/python3.6/site-packages (from scikit_image->boxx) (1.1.1)\n",
            "Requirement already satisfied: networkx>=2.0 in /anaconda/envs/azureml_py36/lib/python3.6/site-packages (from scikit_image->boxx) (2.5.1)\n",
            "Requirement already satisfied: scipy>=1.0.1 in /anaconda/envs/azureml_py36/lib/python3.6/site-packages (from scikit_image->boxx) (1.5.2)\n",
            "Requirement already satisfied: pillow!=7.1.0,!=7.1.1,>=4.3.0 in /anaconda/envs/azureml_py36/lib/python3.6/site-packages (from scikit_image->boxx) (8.2.0)\n",
            "Requirement already satisfied: pyparsing!=2.0.4,!=2.1.2,!=2.1.6,>=2.0.1 in /anaconda/envs/azureml_py36/lib/python3.6/site-packages (from matplotlib->boxx) (2.4.7)\n",
            "Requirement already satisfied: python-dateutil>=2.1 in /anaconda/envs/azureml_py36/lib/python3.6/site-packages (from matplotlib->boxx) (2.8.1)\n",
            "Requirement already satisfied: cycler>=0.10 in /anaconda/envs/azureml_py36/lib/python3.6/site-packages (from matplotlib->boxx) (0.10.0)\n",
            "Requirement already satisfied: kiwisolver>=1.0.1 in /anaconda/envs/azureml_py36/lib/python3.6/site-packages (from matplotlib->boxx) (1.3.1)\n",
            "Requirement already satisfied: pytz>=2017.2 in /anaconda/envs/azureml_py36/lib/python3.6/site-packages (from pandas->boxx) (2021.1)\n",
            "Collecting pprofile\n",
            "  Downloading pprofile-2.0.5.tar.gz (54 kB)\n",
            "\u001b[K     |████████████████████████████████| 54 kB 1.3 MB/s  eta 0:00:01\n",
            "\u001b[?25hRequirement already satisfied: tornado>=2.0 in /anaconda/envs/azureml_py36/lib/python3.6/site-packages (from snakeviz->boxx) (6.1)\n",
            "Collecting decorator<5,>=4.3\n",
            "  Downloading decorator-4.4.2-py2.py3-none-any.whl (9.2 kB)\n",
            "Requirement already satisfied: six>=1.5 in /anaconda/envs/azureml_py36/lib/python3.6/site-packages (from python-dateutil>=2.1->matplotlib->boxx) (1.16.0)\n",
            "Building wheels for collected packages: boxx, py-heat, fn, pprofile\n",
            "  Building wheel for boxx (setup.py) ... \u001b[?25l-\b \b\\\b \bdone\n",
            "\u001b[?25h  Created wheel for boxx: filename=boxx-0.9.3-py3-none-any.whl size=91364 sha256=9f7241718a80133e1b4b623c556b482778c1492e360c9763907b0ccbee7a2923\n",
            "  Stored in directory: /home/azureuser/.cache/pip/wheels/8b/f9/55/37d470bf2f4bb95b13d6907d20c8a79f37571bae49c166173f\n",
            "  Building wheel for py-heat (setup.py) ... \u001b[?25l-\b \bdone\n",
            "\u001b[?25h  Created wheel for py-heat: filename=py_heat-0.0.6-py2.py3-none-any.whl size=7801 sha256=0d54b12fa13bd38033a228d0426b1826456c691d4462f982772039623506921a\n",
            "  Stored in directory: /home/azureuser/.cache/pip/wheels/77/c0/6f/8704e1590c6ad1a7ed3dc3b5ee8ca81e2151d6f4ce2288ff73\n",
            "  Building wheel for fn (setup.py) ... \u001b[?25l-\b \bdone\n",
            "\u001b[?25h  Created wheel for fn: filename=fn-0.4.3-py3-none-any.whl size=28473 sha256=afd92696ab82e79b113da7be306882ec85fd9477a4b0b626bec145ce803bbc12\n",
            "  Stored in directory: /home/azureuser/.cache/pip/wheels/54/6e/13/de55e4c47f4832a920d60b41f8e1e9fa25f11c72642f7e2dcf\n",
            "  Building wheel for pprofile (setup.py) ... \u001b[?25l-\b \b\\\b \b|\b \b/\b \bdone\n",
            "\u001b[?25h  Created wheel for pprofile: filename=pprofile-2.0.5-py3-none-any.whl size=34837 sha256=27935c24312b84f0a0eaa1ad10b60b7ec7e295d68a485aed34eca10bf9b31967\n",
            "  Stored in directory: /home/azureuser/.cache/pip/wheels/cc/b8/20/b9c844de648bb4ab6a25bd87bc442eb458534b1cdc2cb96fa2\n",
            "Successfully built boxx py-heat fn pprofile\n",
            "Installing collected packages: pprofile, py-heat, snakeviz, fn, pyopengl, boxx, decorator\n",
            "  Attempting uninstall: decorator\n",
            "    Found existing installation: decorator 5.0.7\n",
            "    Uninstalling decorator-5.0.7:\n",
            "      Successfully uninstalled decorator-5.0.7\n",
            "Successfully installed boxx-0.9.3 decorator-4.4.2 fn-0.4.3 pprofile-2.0.5 py-heat-0.0.6 pyopengl-3.1.5 snakeviz-2.1.0\n",
            "Note: you may need to restart the kernel to use updated packages.\n"
          ]
        }
      ],
      "execution_count": 2,
      "metadata": {
        "collapsed": true,
        "jupyter": {
          "source_hidden": false,
          "outputs_hidden": false
        },
        "nteract": {
          "transient": {
            "deleting": false
          }
        },
        "gather": {
          "logged": 1622400086230
        }
      },
      "id": "a18e8a01-05e3-417d-8f73-c4106f5463b2"
    },
    {
      "cell_type": "code",
      "source": [
        "import boxx  \n",
        "train_js = boxx.loadjson('dataset/instances_train2019.json')\n",
        "#cat_list=[1,2,3,4,5,6,8,7,9,10,11,12,13,14,15,16,17,18,20,19]\n",
        "#Users/m.zafar/data-Science-project-master/master/instances_train2019.json"
      ],
      "outputs": [],
      "execution_count": 6,
      "metadata": {
        "gather": {
          "logged": 1622400123496
        }
      },
      "id": "757d77a8-9dbd-4110-ab6e-d972016e8abc"
    },
    {
      "cell_type": "code",
      "source": [
        "categories_df = pd.DataFrame(train_js['categories'])\n",
        "annotations_df = pd.DataFrame(train_js['annotations'])\n",
        "annotations_df=annotations_df.rename(columns={'id':'annotation_id'})\n",
        "images_df = pd.DataFrame(train_js['images'])\n",
        "images_df=images_df.rename(columns={'id':'image_id'})\n",
        "categories_df=categories_df.rename(columns={'id':'category_id'})\n",
        "temp=pd.merge(annotations_df,images_df,how=\"inner\",on=\"image_id\")\n",
        "train=pd.merge(temp,categories_df,how=\"left\",on=\"category_id\")"
      ],
      "outputs": [],
      "execution_count": 7,
      "metadata": {
        "gather": {
          "logged": 1622400123839
        }
      },
      "id": "394c9e56-b212-480e-974e-bcec4afacb99"
    },
    {
      "cell_type": "code",
      "source": [
        "price_df = pd.read_csv('price/price.csv')\r\n",
        "cat_list = []\r\n",
        "#price_df['Product_name']\r\n",
        "cat_list = list(categories_df.loc[categories_df['name'].isin(price_df['Product_name']),['category_id']]['category_id'])"
      ],
      "outputs": [],
      "execution_count": 18,
      "metadata": {
        "collapsed": true,
        "jupyter": {
          "source_hidden": false,
          "outputs_hidden": false
        },
        "nteract": {
          "transient": {
            "deleting": false
          }
        },
        "gather": {
          "logged": 1622400480657
        }
      },
      "id": "abcd6ea7-13e7-419d-a0e9-db586efc4eae"
    },
    {
      "cell_type": "code",
      "source": [
        "#train = train.loc[train['category_id']<21]\r\n",
        "train = train.loc[train['category_id'].isin(cat_list)]"
      ],
      "outputs": [],
      "execution_count": 19,
      "metadata": {
        "collapsed": true,
        "jupyter": {
          "source_hidden": false,
          "outputs_hidden": false
        },
        "nteract": {
          "transient": {
            "deleting": false
          }
        },
        "gather": {
          "logged": 1622400565863
        }
      },
      "id": "74893890-a0f3-4b0b-9ad8-c2c0e827f3da"
    },
    {
      "cell_type": "code",
      "source": [
        "len(train)"
      ],
      "outputs": [
        {
          "output_type": "execute_result",
          "execution_count": 20,
          "data": {
            "text/plain": "640"
          },
          "metadata": {}
        }
      ],
      "execution_count": 20,
      "metadata": {
        "collapsed": true,
        "jupyter": {
          "source_hidden": false,
          "outputs_hidden": false
        },
        "nteract": {
          "transient": {
            "deleting": false
          }
        },
        "gather": {
          "logged": 1622400570564
        }
      },
      "id": "e38f86a7-f37f-4fba-ae18-59c6e756d748"
    },
    {
      "cell_type": "code",
      "source": [
        "import shutil\n",
        "import os\n",
        "\n",
        "src_dir = \"dataset/train2019/\"#'OneDrive - Institute of Business Administration/archive/images/train2019'\n",
        "dst_dir = \"master/images/train/\"\n",
        "shutil.rmtree(dst_dir)\n",
        "for jpgfile in train['file_name']:\n",
        "    src_path = os.path.join(src_dir,jpgfile)\n",
        "    if not os.path.exists(dst_dir): os.makedirs(dst_dir)\n",
        "    #print(src_path)\n",
        "    #print(jpgfile)\n",
        "    shutil.copy(src_path, dst_dir)\n",
        "    #print(src_path)"
      ],
      "outputs": [],
      "execution_count": 21,
      "metadata": {
        "gather": {
          "logged": 1622400823066
        }
      },
      "id": "c71ddc19-21b2-494a-9227-55ce6eecb70a"
    },
    {
      "cell_type": "code",
      "source": [
        "import os\r\n",
        "\r\n",
        "APP_FOLDER = 'master/images/train'\r\n",
        "\r\n",
        "totalFiles = 0\r\n",
        "totalDir = 0\r\n",
        "\r\n",
        "for base, dirs, files in os.walk(APP_FOLDER):\r\n",
        "    print('Searching in : ',base)\r\n",
        "    for directories in dirs:\r\n",
        "        totalDir += 1\r\n",
        "    for Files in files:\r\n",
        "        totalFiles += 1\r\n",
        "\r\n",
        "\r\n",
        "print('Total number of files',totalFiles)\r\n",
        "print('Total Number of directories',totalDir)\r\n",
        "print('Total:',(totalDir + totalFiles))"
      ],
      "outputs": [
        {
          "output_type": "stream",
          "name": "stdout",
          "text": [
            "Searching in :  master/images/train\n",
            "Total number of files 640\n",
            "Total Number of directories 0\n",
            "Total: 640\n"
          ]
        }
      ],
      "execution_count": 22,
      "metadata": {
        "collapsed": true,
        "jupyter": {
          "source_hidden": false,
          "outputs_hidden": false
        },
        "nteract": {
          "transient": {
            "deleting": false
          }
        },
        "gather": {
          "logged": 1622400823412
        }
      },
      "id": "dacab333-f41d-4a97-85a8-74aff5d0e39a"
    },
    {
      "cell_type": "code",
      "source": [
        "import boxx  \n",
        "val_js = boxx.loadjson('dataset/instances_val2019.json')"
      ],
      "outputs": [],
      "execution_count": 23,
      "metadata": {
        "gather": {
          "logged": 1622400914371
        }
      },
      "id": "a6d4530b-4f17-4c04-841c-61afddb1adb0"
    },
    {
      "cell_type": "code",
      "source": [
        "categories_df_val = pd.DataFrame(val_js['categories'])\n",
        "annotations_df_val = pd.DataFrame(val_js['annotations'])\n",
        "images_df_val = pd.DataFrame(val_js['images'])\n",
        "images_df_val=images_df_val.rename(columns={'id':'image_id'})\n",
        "categories_df_val=categories_df_val.rename(columns={'id':'category_id'})\n",
        "temp=pd.merge(annotations_df_val,images_df_val,how=\"inner\",on=\"image_id\")\n",
        "val=pd.merge(temp,categories_df_val,how=\"left\",on=\"category_id\")"
      ],
      "outputs": [],
      "execution_count": 24,
      "metadata": {
        "gather": {
          "logged": 1622400914754
        }
      },
      "id": "e72fe933-702f-4864-800d-a826bc848ea8"
    },
    {
      "cell_type": "code",
      "source": [
        "#val = val.loc[val['category_id']<21]\r\n",
        "val = val.loc[val['category_id'].isin(cat_list)]\r\n"
      ],
      "outputs": [],
      "execution_count": 25,
      "metadata": {
        "collapsed": true,
        "jupyter": {
          "source_hidden": false,
          "outputs_hidden": false
        },
        "nteract": {
          "transient": {
            "deleting": false
          }
        },
        "gather": {
          "logged": 1622400917241
        }
      },
      "id": "6c0bd674-d3fb-4924-a66c-8c2b65ad5152"
    },
    {
      "cell_type": "code",
      "source": [
        "import os\r\n",
        "\r\n",
        "APP_FOLDER = 'master/images/val/'\r\n",
        "\r\n",
        "totalFiles = 0\r\n",
        "totalDir = 0\r\n",
        "\r\n",
        "for base, dirs, files in os.walk(APP_FOLDER):\r\n",
        "    print('Searching in : ',base)\r\n",
        "    for directories in dirs:\r\n",
        "        totalDir += 1\r\n",
        "    for Files in files:\r\n",
        "        totalFiles += 1\r\n",
        "\r\n",
        "\r\n",
        "print('Total number of files',totalFiles)\r\n",
        "print('Total Number of directories',totalDir)\r\n",
        "print('Total:',(totalDir + totalFiles))\r\n",
        "\r\n",
        "len(val)"
      ],
      "outputs": [
        {
          "output_type": "stream",
          "name": "stdout",
          "text": [
            "Searching in :  master/images/val/\n",
            "Total number of files 2972\n",
            "Total Number of directories 0\n",
            "Total: 2972\n"
          ]
        },
        {
          "output_type": "execute_result",
          "execution_count": 26,
          "data": {
            "text/plain": "673"
          },
          "metadata": {}
        }
      ],
      "execution_count": 26,
      "metadata": {
        "collapsed": true,
        "jupyter": {
          "source_hidden": false,
          "outputs_hidden": false
        },
        "nteract": {
          "transient": {
            "deleting": false
          }
        },
        "gather": {
          "logged": 1622400920464
        }
      },
      "id": "4707f76b-0524-4af3-ade4-a4ffc8e8a0cb"
    },
    {
      "cell_type": "code",
      "source": [
        "len(val['file_name'].unique())"
      ],
      "outputs": [
        {
          "output_type": "execute_result",
          "execution_count": 27,
          "data": {
            "text/plain": "326"
          },
          "metadata": {}
        }
      ],
      "execution_count": 27,
      "metadata": {
        "collapsed": true,
        "jupyter": {
          "source_hidden": false,
          "outputs_hidden": false
        },
        "nteract": {
          "transient": {
            "deleting": false
          }
        },
        "gather": {
          "logged": 1622400935668
        }
      },
      "id": "be250629-3fc7-48c8-9f53-952e49b8e5f5"
    },
    {
      "cell_type": "code",
      "source": [
        "import shutil\n",
        "import os\n",
        "\n",
        "src_dir = \"dataset/val2019/\"#'OneDrive - Institute of Business Administration/archive/images/train2019'\n",
        "dst_dir = \"master/images/val/\"\n",
        "shutil.rmtree(dst_dir)\n",
        "for jpgfile in set(val['file_name'].unique()):\n",
        "    src_path = os.path.join(src_dir,jpgfile)\n",
        "    if not os.path.exists(dst_dir): os.makedirs(dst_dir)\n",
        "    #print(src_path)\n",
        "    #print(jpgfile)\n",
        "    shutil.copy(src_path, dst_dir)\n",
        "    #print(src_path)"
      ],
      "outputs": [],
      "execution_count": 28,
      "metadata": {
        "gather": {
          "logged": 1622401053501
        }
      },
      "id": "920dfcb3-6ade-4dfd-a68e-f7a6479af0e6"
    },
    {
      "cell_type": "code",
      "source": [
        "(set(val['name'])) #list of all labels in val dataset"
      ],
      "outputs": [
        {
          "output_type": "execute_result",
          "execution_count": 15,
          "data": {
            "text/plain": "{'10_puffed_food',\n '11_puffed_food',\n '12_puffed_food',\n '13_dried_fruit',\n '14_dried_fruit',\n '15_dried_fruit',\n '16_dried_fruit',\n '17_dried_fruit',\n '18_dried_fruit',\n '19_dried_fruit',\n '1_puffed_food',\n '20_dried_fruit',\n '2_puffed_food',\n '3_puffed_food',\n '4_puffed_food',\n '5_puffed_food',\n '6_puffed_food',\n '7_puffed_food',\n '8_puffed_food',\n '9_puffed_food'}"
          },
          "metadata": {}
        }
      ],
      "execution_count": 15,
      "metadata": {
        "gather": {
          "logged": 1622172524768
        }
      },
      "id": "9864877a-bb5f-4222-aba7-c61ea988e751"
    },
    {
      "cell_type": "code",
      "source": [
        "def create_dataset(dataset_type, dtf):\n",
        "  #print(dtf[0:1])\n",
        "  images_path = Path(f\"master/images/{dataset_type}\")\n",
        "  images_path.mkdir(parents=True, exist_ok=True)\n",
        "  labels_path = Path(f\"master/labels/{dataset_type}\")\n",
        "  labels_path.mkdir(parents=True, exist_ok=True)\n",
        "  for idx,row in dtf.iterrows():\n",
        "    #print(row)\n",
        "    label_name = f\"{row['file_name'].split('.')[0]}.txt\"\n",
        "    with (labels_path / label_name).open(mode=\"a\") as label_file:\n",
        "        category_idx = row['category_id']\n",
        "        label_file.write(\n",
        "           f\"{category_idx} {(row['point_xy'][0])/row['width']} {(row['point_xy'][1])/row['height']} {(row['bbox'][2])/row['width']} {(row['bbox'][3])/row['height']}\\n\"\n",
        "        )"
      ],
      "outputs": [],
      "execution_count": 29,
      "metadata": {
        "gather": {
          "logged": 1622401053733
        }
      },
      "id": "178e96d3-8274-4b6e-be2f-9e0286a6e1d8"
    },
    {
      "cell_type": "code",
      "source": [
        "train.describe()"
      ],
      "outputs": [
        {
          "output_type": "execute_result",
          "execution_count": 18,
          "data": {
            "text/plain": "               area  category_id  annotation_id      image_id  iscrowd  \\\ncount  6.398000e+03  6398.000000    6398.000000   6398.000000   6398.0   \nmean   6.235223e+05    10.498906   22177.131604  22177.131604      0.0   \nstd    2.564445e+05     5.767274   15360.482459  15360.482459      0.0   \nmin    1.141877e+05     1.000000    3517.000000   3517.000000      0.0   \n25%    4.264481e+05     5.250000    9912.250000   9912.250000      0.0   \n50%    5.858317e+05    10.000000   12786.500000  12786.500000      0.0   \n75%    8.108593e+05    15.750000   30383.750000  30383.750000      0.0   \nmax    1.361675e+06    20.000000   50381.000000  50381.000000      0.0   \n\n        width  height  \ncount  6398.0  6398.0  \nmean   2592.0  1944.0  \nstd       0.0     0.0  \nmin    2592.0  1944.0  \n25%    2592.0  1944.0  \n50%    2592.0  1944.0  \n75%    2592.0  1944.0  \nmax    2592.0  1944.0  ",
            "text/html": "<div>\n<style scoped>\n    .dataframe tbody tr th:only-of-type {\n        vertical-align: middle;\n    }\n\n    .dataframe tbody tr th {\n        vertical-align: top;\n    }\n\n    .dataframe thead th {\n        text-align: right;\n    }\n</style>\n<table border=\"1\" class=\"dataframe\">\n  <thead>\n    <tr style=\"text-align: right;\">\n      <th></th>\n      <th>area</th>\n      <th>category_id</th>\n      <th>annotation_id</th>\n      <th>image_id</th>\n      <th>iscrowd</th>\n      <th>width</th>\n      <th>height</th>\n    </tr>\n  </thead>\n  <tbody>\n    <tr>\n      <th>count</th>\n      <td>6.398000e+03</td>\n      <td>6398.000000</td>\n      <td>6398.000000</td>\n      <td>6398.000000</td>\n      <td>6398.0</td>\n      <td>6398.0</td>\n      <td>6398.0</td>\n    </tr>\n    <tr>\n      <th>mean</th>\n      <td>6.235223e+05</td>\n      <td>10.498906</td>\n      <td>22177.131604</td>\n      <td>22177.131604</td>\n      <td>0.0</td>\n      <td>2592.0</td>\n      <td>1944.0</td>\n    </tr>\n    <tr>\n      <th>std</th>\n      <td>2.564445e+05</td>\n      <td>5.767274</td>\n      <td>15360.482459</td>\n      <td>15360.482459</td>\n      <td>0.0</td>\n      <td>0.0</td>\n      <td>0.0</td>\n    </tr>\n    <tr>\n      <th>min</th>\n      <td>1.141877e+05</td>\n      <td>1.000000</td>\n      <td>3517.000000</td>\n      <td>3517.000000</td>\n      <td>0.0</td>\n      <td>2592.0</td>\n      <td>1944.0</td>\n    </tr>\n    <tr>\n      <th>25%</th>\n      <td>4.264481e+05</td>\n      <td>5.250000</td>\n      <td>9912.250000</td>\n      <td>9912.250000</td>\n      <td>0.0</td>\n      <td>2592.0</td>\n      <td>1944.0</td>\n    </tr>\n    <tr>\n      <th>50%</th>\n      <td>5.858317e+05</td>\n      <td>10.000000</td>\n      <td>12786.500000</td>\n      <td>12786.500000</td>\n      <td>0.0</td>\n      <td>2592.0</td>\n      <td>1944.0</td>\n    </tr>\n    <tr>\n      <th>75%</th>\n      <td>8.108593e+05</td>\n      <td>15.750000</td>\n      <td>30383.750000</td>\n      <td>30383.750000</td>\n      <td>0.0</td>\n      <td>2592.0</td>\n      <td>1944.0</td>\n    </tr>\n    <tr>\n      <th>max</th>\n      <td>1.361675e+06</td>\n      <td>20.000000</td>\n      <td>50381.000000</td>\n      <td>50381.000000</td>\n      <td>0.0</td>\n      <td>2592.0</td>\n      <td>1944.0</td>\n    </tr>\n  </tbody>\n</table>\n</div>"
          },
          "metadata": {}
        }
      ],
      "execution_count": 18,
      "metadata": {
        "collapsed": true,
        "jupyter": {
          "source_hidden": false,
          "outputs_hidden": false
        },
        "nteract": {
          "transient": {
            "deleting": false
          }
        },
        "gather": {
          "logged": 1622172586626
        }
      },
      "id": "0a790df1-e7bc-4733-bf0c-7e262b82c77a"
    },
    {
      "cell_type": "code",
      "source": [
        "val.describe()"
      ],
      "outputs": [
        {
          "output_type": "execute_result",
          "execution_count": 19,
          "data": {
            "text/plain": "                area  category_id             id     image_id  iscrowd  \\\ncount    7776.000000  7776.000000    7776.000000   7776.00000   7776.0   \nmean   310044.583997    10.567901  193188.444187  18952.50823      0.0   \nstd     75150.644851     5.536760  105876.925963   7975.49677      0.0   \nmin     73252.670000     1.000000     889.000000    254.00000      0.0   \n25%    251968.270000     6.000000  104476.000000  13200.75000      0.0   \n50%    301643.430000    10.000000  201240.500000  20566.50000      0.0   \n75%    362456.747500    16.000000  277743.500000  25354.75000      0.0   \nmax    631238.390000    20.000000  376022.000000  30616.00000      0.0   \n\n             width       height  \ncount  7776.000000  7776.000000  \nmean   1829.010159  1829.010159  \nstd      21.261780    21.261780  \nmin    1751.000000  1751.000000  \n25%    1816.000000  1816.000000  \n50%    1832.000000  1832.000000  \n75%    1845.000000  1845.000000  \nmax    1886.000000  1886.000000  ",
            "text/html": "<div>\n<style scoped>\n    .dataframe tbody tr th:only-of-type {\n        vertical-align: middle;\n    }\n\n    .dataframe tbody tr th {\n        vertical-align: top;\n    }\n\n    .dataframe thead th {\n        text-align: right;\n    }\n</style>\n<table border=\"1\" class=\"dataframe\">\n  <thead>\n    <tr style=\"text-align: right;\">\n      <th></th>\n      <th>area</th>\n      <th>category_id</th>\n      <th>id</th>\n      <th>image_id</th>\n      <th>iscrowd</th>\n      <th>width</th>\n      <th>height</th>\n    </tr>\n  </thead>\n  <tbody>\n    <tr>\n      <th>count</th>\n      <td>7776.000000</td>\n      <td>7776.000000</td>\n      <td>7776.000000</td>\n      <td>7776.00000</td>\n      <td>7776.0</td>\n      <td>7776.000000</td>\n      <td>7776.000000</td>\n    </tr>\n    <tr>\n      <th>mean</th>\n      <td>310044.583997</td>\n      <td>10.567901</td>\n      <td>193188.444187</td>\n      <td>18952.50823</td>\n      <td>0.0</td>\n      <td>1829.010159</td>\n      <td>1829.010159</td>\n    </tr>\n    <tr>\n      <th>std</th>\n      <td>75150.644851</td>\n      <td>5.536760</td>\n      <td>105876.925963</td>\n      <td>7975.49677</td>\n      <td>0.0</td>\n      <td>21.261780</td>\n      <td>21.261780</td>\n    </tr>\n    <tr>\n      <th>min</th>\n      <td>73252.670000</td>\n      <td>1.000000</td>\n      <td>889.000000</td>\n      <td>254.00000</td>\n      <td>0.0</td>\n      <td>1751.000000</td>\n      <td>1751.000000</td>\n    </tr>\n    <tr>\n      <th>25%</th>\n      <td>251968.270000</td>\n      <td>6.000000</td>\n      <td>104476.000000</td>\n      <td>13200.75000</td>\n      <td>0.0</td>\n      <td>1816.000000</td>\n      <td>1816.000000</td>\n    </tr>\n    <tr>\n      <th>50%</th>\n      <td>301643.430000</td>\n      <td>10.000000</td>\n      <td>201240.500000</td>\n      <td>20566.50000</td>\n      <td>0.0</td>\n      <td>1832.000000</td>\n      <td>1832.000000</td>\n    </tr>\n    <tr>\n      <th>75%</th>\n      <td>362456.747500</td>\n      <td>16.000000</td>\n      <td>277743.500000</td>\n      <td>25354.75000</td>\n      <td>0.0</td>\n      <td>1845.000000</td>\n      <td>1845.000000</td>\n    </tr>\n    <tr>\n      <th>max</th>\n      <td>631238.390000</td>\n      <td>20.000000</td>\n      <td>376022.000000</td>\n      <td>30616.00000</td>\n      <td>0.0</td>\n      <td>1886.000000</td>\n      <td>1886.000000</td>\n    </tr>\n  </tbody>\n</table>\n</div>"
          },
          "metadata": {}
        }
      ],
      "execution_count": 19,
      "metadata": {
        "collapsed": true,
        "jupyter": {
          "source_hidden": false,
          "outputs_hidden": false
        },
        "nteract": {
          "transient": {
            "deleting": false
          }
        },
        "gather": {
          "logged": 1622172641636
        }
      },
      "id": "f6439886-4c62-453a-8a19-6f4f6e4578ee"
    },
    {
      "cell_type": "code",
      "source": [
        "dic = {}\r\n",
        "cat_list.sort()\r\n",
        "for ind,catid in enumerate(cat_list):\r\n",
        "    dic[ind] = categories_df.loc[categories_df['category_id']==catid]['name'].item()\r\n",
        "label_name_list = []\r\n",
        "for cat in cat_list:\r\n",
        "    label_name_list.append(categories_df.loc[categories_df['category_id']==cat]['name'].item())\r\n",
        "    train.loc[train['name'] == categories_df.loc[categories_df['category_id']==cat]['name'].item(), 'category_id' ] = list(dic.keys())[list(dic.values()).index(categories_df.loc[categories_df['category_id']==cat]['name'].item())]\r\n",
        "    val.loc[val['name'] == categories_df.loc[categories_df['category_id']==cat]['name'].item(), 'category_id' ] = list(dic.keys())[list(dic.values()).index(categories_df.loc[categories_df['category_id']==cat]['name'].item())]"
      ],
      "outputs": [
        {
          "output_type": "stream",
          "name": "stderr",
          "text": [
            "/anaconda/envs/azureml_py36/lib/python3.6/site-packages/ipykernel_launcher.py:4: FutureWarning: `item` has been deprecated and will be removed in a future version\n",
            "  after removing the cwd from sys.path.\n",
            "/anaconda/envs/azureml_py36/lib/python3.6/site-packages/ipykernel_launcher.py:7: FutureWarning: `item` has been deprecated and will be removed in a future version\n",
            "  import sys\n",
            "/anaconda/envs/azureml_py36/lib/python3.6/site-packages/ipykernel_launcher.py:8: FutureWarning: `item` has been deprecated and will be removed in a future version\n",
            "  \n",
            "/anaconda/envs/azureml_py36/lib/python3.6/site-packages/ipykernel_launcher.py:9: FutureWarning: `item` has been deprecated and will be removed in a future version\n",
            "  if __name__ == '__main__':\n"
          ]
        }
      ],
      "execution_count": 30,
      "metadata": {
        "collapsed": true,
        "jupyter": {
          "source_hidden": false,
          "outputs_hidden": false
        },
        "nteract": {
          "transient": {
            "deleting": false
          }
        },
        "gather": {
          "logged": 1622401053962
        }
      },
      "id": "385f7a22-c360-4ba6-b566-cade50c7db42"
    },
    {
      "cell_type": "code",
      "source": [
        "num_categories = len(cat_list)"
      ],
      "outputs": [],
      "execution_count": 31,
      "metadata": {
        "collapsed": true,
        "jupyter": {
          "source_hidden": false,
          "outputs_hidden": false
        },
        "nteract": {
          "transient": {
            "deleting": false
          }
        },
        "gather": {
          "logged": 1622401054138
        }
      },
      "id": "ca060ce5-a4f0-4b93-b814-d192b226a96c"
    },
    {
      "cell_type": "code",
      "source": [
        "cat_name_list = list(dic.values())\r\n",
        "cat_name_list"
      ],
      "outputs": [
        {
          "output_type": "execute_result",
          "execution_count": 32,
          "data": {
            "text/plain": "['1_puffed_food', '2_puffed_food']"
          },
          "metadata": {}
        }
      ],
      "execution_count": 32,
      "metadata": {
        "collapsed": true,
        "jupyter": {
          "source_hidden": false,
          "outputs_hidden": false
        },
        "nteract": {
          "transient": {
            "deleting": false
          }
        },
        "gather": {
          "logged": 1622401054325
        }
      },
      "id": "7a4ae6eb-ff56-4333-a09d-b3a84d8de05b"
    },
    {
      "cell_type": "code",
      "source": [
        "type(list(dic.values()))"
      ],
      "outputs": [
        {
          "output_type": "execute_result",
          "execution_count": 30,
          "data": {
            "text/plain": "list"
          },
          "metadata": {}
        }
      ],
      "execution_count": 30,
      "metadata": {
        "collapsed": true,
        "jupyter": {
          "source_hidden": false,
          "outputs_hidden": false
        },
        "nteract": {
          "transient": {
            "deleting": false
          }
        },
        "gather": {
          "logged": 1622175086151
        }
      },
      "id": "3d3c420d-8f48-4566-98aa-afb1eb1c27b0"
    },
    {
      "cell_type": "code",
      "source": [
        "train.describe()"
      ],
      "outputs": [
        {
          "output_type": "execute_result",
          "execution_count": 22,
          "data": {
            "text/plain": "               area  category_id  annotation_id      image_id  iscrowd  \\\ncount  6.398000e+03  6398.000000    6398.000000   6398.000000   6398.0   \nmean   6.235223e+05     9.498906   22177.131604  22177.131604      0.0   \nstd    2.564445e+05     5.767274   15360.482459  15360.482459      0.0   \nmin    1.141877e+05     0.000000    3517.000000   3517.000000      0.0   \n25%    4.264481e+05     4.250000    9912.250000   9912.250000      0.0   \n50%    5.858317e+05     9.000000   12786.500000  12786.500000      0.0   \n75%    8.108593e+05    14.750000   30383.750000  30383.750000      0.0   \nmax    1.361675e+06    19.000000   50381.000000  50381.000000      0.0   \n\n        width  height  \ncount  6398.0  6398.0  \nmean   2592.0  1944.0  \nstd       0.0     0.0  \nmin    2592.0  1944.0  \n25%    2592.0  1944.0  \n50%    2592.0  1944.0  \n75%    2592.0  1944.0  \nmax    2592.0  1944.0  ",
            "text/html": "<div>\n<style scoped>\n    .dataframe tbody tr th:only-of-type {\n        vertical-align: middle;\n    }\n\n    .dataframe tbody tr th {\n        vertical-align: top;\n    }\n\n    .dataframe thead th {\n        text-align: right;\n    }\n</style>\n<table border=\"1\" class=\"dataframe\">\n  <thead>\n    <tr style=\"text-align: right;\">\n      <th></th>\n      <th>area</th>\n      <th>category_id</th>\n      <th>annotation_id</th>\n      <th>image_id</th>\n      <th>iscrowd</th>\n      <th>width</th>\n      <th>height</th>\n    </tr>\n  </thead>\n  <tbody>\n    <tr>\n      <th>count</th>\n      <td>6.398000e+03</td>\n      <td>6398.000000</td>\n      <td>6398.000000</td>\n      <td>6398.000000</td>\n      <td>6398.0</td>\n      <td>6398.0</td>\n      <td>6398.0</td>\n    </tr>\n    <tr>\n      <th>mean</th>\n      <td>6.235223e+05</td>\n      <td>9.498906</td>\n      <td>22177.131604</td>\n      <td>22177.131604</td>\n      <td>0.0</td>\n      <td>2592.0</td>\n      <td>1944.0</td>\n    </tr>\n    <tr>\n      <th>std</th>\n      <td>2.564445e+05</td>\n      <td>5.767274</td>\n      <td>15360.482459</td>\n      <td>15360.482459</td>\n      <td>0.0</td>\n      <td>0.0</td>\n      <td>0.0</td>\n    </tr>\n    <tr>\n      <th>min</th>\n      <td>1.141877e+05</td>\n      <td>0.000000</td>\n      <td>3517.000000</td>\n      <td>3517.000000</td>\n      <td>0.0</td>\n      <td>2592.0</td>\n      <td>1944.0</td>\n    </tr>\n    <tr>\n      <th>25%</th>\n      <td>4.264481e+05</td>\n      <td>4.250000</td>\n      <td>9912.250000</td>\n      <td>9912.250000</td>\n      <td>0.0</td>\n      <td>2592.0</td>\n      <td>1944.0</td>\n    </tr>\n    <tr>\n      <th>50%</th>\n      <td>5.858317e+05</td>\n      <td>9.000000</td>\n      <td>12786.500000</td>\n      <td>12786.500000</td>\n      <td>0.0</td>\n      <td>2592.0</td>\n      <td>1944.0</td>\n    </tr>\n    <tr>\n      <th>75%</th>\n      <td>8.108593e+05</td>\n      <td>14.750000</td>\n      <td>30383.750000</td>\n      <td>30383.750000</td>\n      <td>0.0</td>\n      <td>2592.0</td>\n      <td>1944.0</td>\n    </tr>\n    <tr>\n      <th>max</th>\n      <td>1.361675e+06</td>\n      <td>19.000000</td>\n      <td>50381.000000</td>\n      <td>50381.000000</td>\n      <td>0.0</td>\n      <td>2592.0</td>\n      <td>1944.0</td>\n    </tr>\n  </tbody>\n</table>\n</div>"
          },
          "metadata": {}
        }
      ],
      "execution_count": 22,
      "metadata": {
        "collapsed": true,
        "jupyter": {
          "source_hidden": false,
          "outputs_hidden": false
        },
        "nteract": {
          "transient": {
            "deleting": false
          }
        },
        "gather": {
          "logged": 1622172718383
        }
      },
      "id": "091eb01b-2a95-4f2b-9aa9-671ba6425b21"
    },
    {
      "cell_type": "code",
      "source": [
        "val.describe()"
      ],
      "outputs": [
        {
          "output_type": "execute_result",
          "execution_count": 23,
          "data": {
            "text/plain": "                area  category_id             id     image_id  iscrowd  \\\ncount    7776.000000  7776.000000    7776.000000   7776.00000   7776.0   \nmean   310044.583997     9.567901  193188.444187  18952.50823      0.0   \nstd     75150.644851     5.536760  105876.925963   7975.49677      0.0   \nmin     73252.670000     0.000000     889.000000    254.00000      0.0   \n25%    251968.270000     5.000000  104476.000000  13200.75000      0.0   \n50%    301643.430000     9.000000  201240.500000  20566.50000      0.0   \n75%    362456.747500    15.000000  277743.500000  25354.75000      0.0   \nmax    631238.390000    19.000000  376022.000000  30616.00000      0.0   \n\n             width       height  \ncount  7776.000000  7776.000000  \nmean   1829.010159  1829.010159  \nstd      21.261780    21.261780  \nmin    1751.000000  1751.000000  \n25%    1816.000000  1816.000000  \n50%    1832.000000  1832.000000  \n75%    1845.000000  1845.000000  \nmax    1886.000000  1886.000000  ",
            "text/html": "<div>\n<style scoped>\n    .dataframe tbody tr th:only-of-type {\n        vertical-align: middle;\n    }\n\n    .dataframe tbody tr th {\n        vertical-align: top;\n    }\n\n    .dataframe thead th {\n        text-align: right;\n    }\n</style>\n<table border=\"1\" class=\"dataframe\">\n  <thead>\n    <tr style=\"text-align: right;\">\n      <th></th>\n      <th>area</th>\n      <th>category_id</th>\n      <th>id</th>\n      <th>image_id</th>\n      <th>iscrowd</th>\n      <th>width</th>\n      <th>height</th>\n    </tr>\n  </thead>\n  <tbody>\n    <tr>\n      <th>count</th>\n      <td>7776.000000</td>\n      <td>7776.000000</td>\n      <td>7776.000000</td>\n      <td>7776.00000</td>\n      <td>7776.0</td>\n      <td>7776.000000</td>\n      <td>7776.000000</td>\n    </tr>\n    <tr>\n      <th>mean</th>\n      <td>310044.583997</td>\n      <td>9.567901</td>\n      <td>193188.444187</td>\n      <td>18952.50823</td>\n      <td>0.0</td>\n      <td>1829.010159</td>\n      <td>1829.010159</td>\n    </tr>\n    <tr>\n      <th>std</th>\n      <td>75150.644851</td>\n      <td>5.536760</td>\n      <td>105876.925963</td>\n      <td>7975.49677</td>\n      <td>0.0</td>\n      <td>21.261780</td>\n      <td>21.261780</td>\n    </tr>\n    <tr>\n      <th>min</th>\n      <td>73252.670000</td>\n      <td>0.000000</td>\n      <td>889.000000</td>\n      <td>254.00000</td>\n      <td>0.0</td>\n      <td>1751.000000</td>\n      <td>1751.000000</td>\n    </tr>\n    <tr>\n      <th>25%</th>\n      <td>251968.270000</td>\n      <td>5.000000</td>\n      <td>104476.000000</td>\n      <td>13200.75000</td>\n      <td>0.0</td>\n      <td>1816.000000</td>\n      <td>1816.000000</td>\n    </tr>\n    <tr>\n      <th>50%</th>\n      <td>301643.430000</td>\n      <td>9.000000</td>\n      <td>201240.500000</td>\n      <td>20566.50000</td>\n      <td>0.0</td>\n      <td>1832.000000</td>\n      <td>1832.000000</td>\n    </tr>\n    <tr>\n      <th>75%</th>\n      <td>362456.747500</td>\n      <td>15.000000</td>\n      <td>277743.500000</td>\n      <td>25354.75000</td>\n      <td>0.0</td>\n      <td>1845.000000</td>\n      <td>1845.000000</td>\n    </tr>\n    <tr>\n      <th>max</th>\n      <td>631238.390000</td>\n      <td>19.000000</td>\n      <td>376022.000000</td>\n      <td>30616.00000</td>\n      <td>0.0</td>\n      <td>1886.000000</td>\n      <td>1886.000000</td>\n    </tr>\n  </tbody>\n</table>\n</div>"
          },
          "metadata": {}
        }
      ],
      "execution_count": 23,
      "metadata": {
        "collapsed": true,
        "jupyter": {
          "source_hidden": false,
          "outputs_hidden": false
        },
        "nteract": {
          "transient": {
            "deleting": false
          }
        },
        "gather": {
          "logged": 1622172729429
        }
      },
      "id": "31d8bc84-90fa-4cba-b7ec-28953330deac"
    },
    {
      "cell_type": "code",
      "source": [
        "create_dataset( 'train', train)\n",
        "create_dataset('val', val)"
      ],
      "outputs": [],
      "execution_count": 35,
      "metadata": {
        "gather": {
          "logged": 1622177983184
        }
      },
      "id": "8d7261c3-a55a-41d8-a575-31d818239cf7"
    },
    {
      "cell_type": "code",
      "source": [
        "import yaml\r\n",
        "\r\n",
        "fname = \"master/yolov5/data/rpc.yaml\"\r\n",
        "\r\n",
        "stream = open(fname, 'r')\r\n",
        "data = yaml.load(stream)\r\n",
        "\r\n",
        "data['nc']=len(cat_list) #Do remember to normalize cat_list\r\n",
        "data['names'] = list(dic.values())\r\n",
        "#data['instances'][0]['host'] = '1.2.3.4'\r\n",
        "#data['instances'][0]['username'] = 'Username'\r\n",
        "#data['instances'][0]['password'] = 'Password'\r\n",
        "\r\n",
        "with open(fname, 'w') as yaml_file:\r\n",
        "    yaml_file.write( yaml.dump(data, default_flow_style=False))"
      ],
      "outputs": [
        {
          "output_type": "stream",
          "name": "stderr",
          "text": [
            "/anaconda/envs/azureml_py36/lib/python3.6/site-packages/ipykernel_launcher.py:6: YAMLLoadWarning: calling yaml.load() without Loader=... is deprecated, as the default Loader is unsafe. Please read https://msg.pyyaml.org/load for full details.\n",
            "  \n"
          ]
        }
      ],
      "execution_count": 33,
      "metadata": {
        "collapsed": true,
        "jupyter": {
          "source_hidden": false,
          "outputs_hidden": false
        },
        "nteract": {
          "transient": {
            "deleting": false
          }
        },
        "gather": {
          "logged": 1622175161207
        }
      },
      "id": "c204bfcc-b77d-46ba-8f1e-e954c7c9fbae"
    },
    {
      "cell_type": "code",
      "source": [
        "fname = \"master/yolov5/models/yolov5l.yaml\"\r\n",
        "\r\n",
        "stream = open(fname, 'r')\r\n",
        "data = yaml.load(stream)\r\n",
        "\r\n",
        "data['nc']=len(cat_list) #Do remember to normalize cat_list\r\n",
        "#data['names'] = list(dic.values())\r\n",
        "#data['instances'][0]['host'] = '1.2.3.4'\r\n",
        "#data['instances'][0]['username'] = 'Username'\r\n",
        "#data['instances'][0]['password'] = 'Password'\r\n",
        "\r\n",
        "with open(fname, 'w') as yaml_file:\r\n",
        "    yaml_file.write( yaml.dump(data, default_flow_style=False))"
      ],
      "outputs": [
        {
          "output_type": "stream",
          "name": "stderr",
          "text": [
            "/anaconda/envs/azureml_py36/lib/python3.6/site-packages/ipykernel_launcher.py:4: YAMLLoadWarning: calling yaml.load() without Loader=... is deprecated, as the default Loader is unsafe. Please read https://msg.pyyaml.org/load for full details.\n",
            "  after removing the cwd from sys.path.\n"
          ]
        }
      ],
      "execution_count": 34,
      "metadata": {
        "collapsed": true,
        "jupyter": {
          "source_hidden": false,
          "outputs_hidden": false
        },
        "nteract": {
          "transient": {
            "deleting": false
          }
        },
        "gather": {
          "logged": 1622175977708
        }
      },
      "id": "7c7d9336-5a13-45b3-9594-9e19ee9f4806"
    },
    {
      "cell_type": "code",
      "source": [
        "os.getcwd()"
      ],
      "outputs": [
        {
          "output_type": "execute_result",
          "execution_count": 29,
          "data": {
            "text/plain": "'/mnt/batch/tasks/shared/LS_root/mounts/clusters/dspd/code/Users/m.zafar'"
          },
          "metadata": {}
        }
      ],
      "execution_count": 29,
      "metadata": {
        "collapsed": true,
        "jupyter": {
          "source_hidden": false,
          "outputs_hidden": false
        },
        "nteract": {
          "transient": {
            "deleting": false
          }
        },
        "gather": {
          "logged": 1621967891068
        }
      },
      "id": "1bd91ad1-aa22-4a0f-aecf-0e4bb70a9b23"
    },
    {
      "cell_type": "code",
      "source": [
        "#code to be run for training on terminal\n",
        "\n",
        "#python train.py --img 640 --batch 4 --epochs 1 --data ./data/rpc.yaml --cfg ./models/yolov5l.yaml --weights yolov5l.pt --name yolov5l_rpc --cache"
      ],
      "outputs": [],
      "execution_count": null,
      "metadata": {},
      "id": "6468dd92-4ec0-494f-8842-c0babc185a65"
    },
    {
      "cell_type": "markdown",
      "source": [
        "Below code is just for practice"
      ],
      "metadata": {
        "nteract": {
          "transient": {
            "deleting": false
          }
        }
      },
      "id": "aebeb9b0-cc16-48e6-ac51-7a45780fcdcc"
    },
    {
      "cell_type": "code",
      "source": [
        "cat_list=[1,3,5,7,9]\r\n"
      ],
      "outputs": [],
      "execution_count": null,
      "metadata": {
        "collapsed": true,
        "jupyter": {
          "source_hidden": false,
          "outputs_hidden": false
        },
        "nteract": {
          "transient": {
            "deleting": false
          }
        }
      },
      "id": "fbc1fba4-e938-4747-9bfd-aa59968ea0ce"
    },
    {
      "cell_type": "code",
      "source": [
        "# azureml-core of version 1.0.72 or higher is required\r\n",
        "from azureml.core import Workspace, Dataset\r\n",
        "\r\n",
        "subscription_id = '9f1b1678-0b39-4d15-98d4-6e2f53560eca'\r\n",
        "resource_group = 'Test_DSPD'\r\n",
        "workspace_name = 'DSPD_ml'\r\n",
        "\r\n",
        "workspace = Workspace(subscription_id, resource_group, workspace_name)\r\n",
        "\r\n",
        "dataset = Dataset.get_by_name(workspace, name='dataset_org')\r\n",
        "dataset.download(target_path='.', overwrite=False)"
      ],
      "outputs": [],
      "execution_count": null,
      "metadata": {
        "collapsed": true,
        "jupyter": {
          "source_hidden": false,
          "outputs_hidden": false
        },
        "nteract": {
          "transient": {
            "deleting": false
          }
        }
      },
      "id": "9ee7bff3-29c5-4a5e-8fb7-800905a85b72"
    },
    {
      "cell_type": "markdown",
      "source": [
        "https://www.howtogeek.com/407944/how-to-create-a-flow-from-scratch/"
      ],
      "metadata": {
        "nteract": {
          "transient": {
            "deleting": false
          }
        }
      },
      "id": "84cc06f1-6ffc-4775-bce2-82d04d34ec8e"
    }
  ],
  "metadata": {
    "kernelspec": {
      "name": "python3-azureml",
      "language": "python",
      "display_name": "Python 3.6 - AzureML"
    },
    "language_info": {
      "name": "python",
      "version": "3.6.9",
      "mimetype": "text/x-python",
      "codemirror_mode": {
        "name": "ipython",
        "version": 3
      },
      "pygments_lexer": "ipython3",
      "nbconvert_exporter": "python",
      "file_extension": ".py"
    },
    "kernel_info": {
      "name": "python3-azureml"
    },
    "microsoft": {
      "host": {
        "AzureML": {
          "notebookHasBeenCompleted": true
        }
      }
    },
    "nteract": {
      "version": "nteract-front-end@1.0.0"
    }
  },
  "nbformat": 4,
  "nbformat_minor": 5
}
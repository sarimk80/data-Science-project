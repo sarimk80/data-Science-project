{
 "cells": [
  {
   "cell_type": "code",
   "execution_count": 20,
   "id": "imported-offer",
   "metadata": {},
   "outputs": [],
   "source": [
    "import azureml.core\n",
    "from azureml.core.experiment import Experiment\n",
    "from azureml.core.workspace import Workspace\n",
    "from azureml.core.dataset import Dataset\n",
    "#from azureml.train.automl import AutoMLConfig\n",
    "ws = Workspace.from_config()"
   ]
  },
  {
   "cell_type": "code",
   "execution_count": 21,
   "id": "increasing-bearing",
   "metadata": {},
   "outputs": [],
   "source": [
    "from azureml.core.compute import ComputeTarget, AmlCompute\n",
    "from azureml.core.compute_target import ComputeTargetException"
   ]
  },
  {
   "cell_type": "code",
   "execution_count": 9,
   "id": "rubber-community",
   "metadata": {},
   "outputs": [],
   "source": [
    "experiment_name = \"test_experiment_dspd\"\n",
    "\n",
    "experiment = Experiment(ws, experiment_name)"
   ]
  },
  {
   "cell_type": "code",
   "execution_count": 11,
   "id": "facial-commission",
   "metadata": {},
   "outputs": [],
   "source": [
    "script_folder = './master'"
   ]
  },
  {
   "cell_type": "code",
   "execution_count": 12,
   "id": "simple-visitor",
   "metadata": {},
   "outputs": [],
   "source": [
    "# choose a name for your cluster\n",
    "cluster_name = \"cpu-cluster\""
   ]
  },
  {
   "cell_type": "code",
   "execution_count": 18,
   "id": "municipal-canadian",
   "metadata": {},
   "outputs": [],
   "source": [
    "compute_target = ComputeTarget(workspace=ws,name='teslaCI')"
   ]
  },
  {
   "cell_type": "code",
   "execution_count": 27,
   "id": "relative-modeling",
   "metadata": {},
   "outputs": [
    {
     "ename": "FileNotFoundError",
     "evalue": "[WinError 3] The system cannot find the path specified: 'C:\\\\Users\\\\Babar\\\\Downloads\\\\final_code\\\\master\\\\yolov5'",
     "output_type": "error",
     "traceback": [
      "\u001b[1;31m---------------------------------------------------------------------------\u001b[0m",
      "\u001b[1;31mFileNotFoundError\u001b[0m                         Traceback (most recent call last)",
      "\u001b[1;32m<ipython-input-27-7208833f01ea>\u001b[0m in \u001b[0;36m<module>\u001b[1;34m\u001b[0m\n\u001b[0;32m     13\u001b[0m                          \u001b[0mcompute_target\u001b[0m\u001b[1;33m=\u001b[0m\u001b[0mcompute_target\u001b[0m\u001b[1;33m\u001b[0m\u001b[1;33m\u001b[0m\u001b[0m\n\u001b[0;32m     14\u001b[0m                          )\n\u001b[1;32m---> 15\u001b[1;33m \u001b[0mscript_run\u001b[0m \u001b[1;33m=\u001b[0m \u001b[0mexperiment\u001b[0m\u001b[1;33m.\u001b[0m\u001b[0msubmit\u001b[0m\u001b[1;33m(\u001b[0m\u001b[0mconfig\u001b[0m\u001b[1;33m)\u001b[0m\u001b[1;33m\u001b[0m\u001b[1;33m\u001b[0m\u001b[0m\n\u001b[0m",
      "\u001b[1;32m~\\miniconda3\\envs\\torch\\lib\\site-packages\\azureml\\core\\experiment.py\u001b[0m in \u001b[0;36msubmit\u001b[1;34m(self, config, tags, **kwargs)\u001b[0m\n\u001b[0;32m    218\u001b[0m         \u001b[0msubmit_func\u001b[0m \u001b[1;33m=\u001b[0m \u001b[0mget_experiment_submit\u001b[0m\u001b[1;33m(\u001b[0m\u001b[0mconfig\u001b[0m\u001b[1;33m)\u001b[0m\u001b[1;33m\u001b[0m\u001b[1;33m\u001b[0m\u001b[0m\n\u001b[0;32m    219\u001b[0m         \u001b[1;32mwith\u001b[0m \u001b[0mself\u001b[0m\u001b[1;33m.\u001b[0m\u001b[0m_log_context\u001b[0m\u001b[1;33m(\u001b[0m\u001b[1;34m\"submit config {}\"\u001b[0m\u001b[1;33m.\u001b[0m\u001b[0mformat\u001b[0m\u001b[1;33m(\u001b[0m\u001b[0mconfig\u001b[0m\u001b[1;33m.\u001b[0m\u001b[0m__class__\u001b[0m\u001b[1;33m.\u001b[0m\u001b[0m__name__\u001b[0m\u001b[1;33m)\u001b[0m\u001b[1;33m)\u001b[0m\u001b[1;33m:\u001b[0m\u001b[1;33m\u001b[0m\u001b[1;33m\u001b[0m\u001b[0m\n\u001b[1;32m--> 220\u001b[1;33m             \u001b[0mrun\u001b[0m \u001b[1;33m=\u001b[0m \u001b[0msubmit_func\u001b[0m\u001b[1;33m(\u001b[0m\u001b[0mconfig\u001b[0m\u001b[1;33m,\u001b[0m \u001b[0mself\u001b[0m\u001b[1;33m.\u001b[0m\u001b[0mworkspace\u001b[0m\u001b[1;33m,\u001b[0m \u001b[0mself\u001b[0m\u001b[1;33m.\u001b[0m\u001b[0mname\u001b[0m\u001b[1;33m,\u001b[0m \u001b[1;33m**\u001b[0m\u001b[0mkwargs\u001b[0m\u001b[1;33m)\u001b[0m\u001b[1;33m\u001b[0m\u001b[1;33m\u001b[0m\u001b[0m\n\u001b[0m\u001b[0;32m    221\u001b[0m         \u001b[1;32mif\u001b[0m \u001b[0mtags\u001b[0m \u001b[1;32mis\u001b[0m \u001b[1;32mnot\u001b[0m \u001b[1;32mNone\u001b[0m\u001b[1;33m:\u001b[0m\u001b[1;33m\u001b[0m\u001b[1;33m\u001b[0m\u001b[0m\n\u001b[0;32m    222\u001b[0m             \u001b[0mrun\u001b[0m\u001b[1;33m.\u001b[0m\u001b[0mset_tags\u001b[0m\u001b[1;33m(\u001b[0m\u001b[0mtags\u001b[0m\u001b[1;33m)\u001b[0m\u001b[1;33m\u001b[0m\u001b[1;33m\u001b[0m\u001b[0m\n",
      "\u001b[1;32m~\\miniconda3\\envs\\torch\\lib\\site-packages\\azureml\\core\\script_run_config.py\u001b[0m in \u001b[0;36msubmit\u001b[1;34m(script_run_config, workspace, experiment_name, run_id, _parent_run_id, credential_passthrough)\u001b[0m\n\u001b[0;32m     60\u001b[0m     collect_datasets_usage(module_logger, _SCRIPT_RUN_SUBMIT_ACTIVITY, inputs,\n\u001b[0;32m     61\u001b[0m                            workspace, run_config.target)\n\u001b[1;32m---> 62\u001b[1;33m     run = _commands.start_run(project, run_config,\n\u001b[0m\u001b[0;32m     63\u001b[0m                               \u001b[0mtelemetry_values\u001b[0m\u001b[1;33m=\u001b[0m\u001b[0mscript_run_config\u001b[0m\u001b[1;33m.\u001b[0m\u001b[0m_telemetry_values\u001b[0m\u001b[1;33m,\u001b[0m\u001b[1;33m\u001b[0m\u001b[1;33m\u001b[0m\u001b[0m\n\u001b[0;32m     64\u001b[0m                               run_id=run_id, parent_run_id=_parent_run_id)\n",
      "\u001b[1;32m~\\miniconda3\\envs\\torch\\lib\\site-packages\\azureml\\_execution\\_commands.py\u001b[0m in \u001b[0;36mstart_run\u001b[1;34m(project_object, run_config_object, run_id, injected_files, telemetry_values, parent_run_id, prepare_only, check)\u001b[0m\n\u001b[0;32m     94\u001b[0m     \"\"\"\n\u001b[0;32m     95\u001b[0m \u001b[1;33m\u001b[0m\u001b[0m\n\u001b[1;32m---> 96\u001b[1;33m     setup = _setup_run(project_object, run_config_object,\n\u001b[0m\u001b[0;32m     97\u001b[0m                        injected_files=injected_files, prepare_only=prepare_only)\n\u001b[0;32m     98\u001b[0m     \u001b[0mcustom_target_dict\u001b[0m \u001b[1;33m=\u001b[0m \u001b[0msetup\u001b[0m\u001b[1;33m.\u001b[0m\u001b[0mcustom_target_dict\u001b[0m\u001b[1;33m\u001b[0m\u001b[1;33m\u001b[0m\u001b[0m\n",
      "\u001b[1;32m~\\miniconda3\\envs\\torch\\lib\\site-packages\\azureml\\_execution\\_commands.py\u001b[0m in \u001b[0;36m_setup_run\u001b[1;34m(project_object, run_config_object, prepare_only, injected_files)\u001b[0m\n\u001b[0;32m    136\u001b[0m     \u001b[1;33m:\u001b[0m\u001b[1;32mreturn\u001b[0m\u001b[1;33m:\u001b[0m\u001b[1;33m\u001b[0m\u001b[1;33m\u001b[0m\u001b[0m\n\u001b[0;32m    137\u001b[0m     \"\"\"\n\u001b[1;32m--> 138\u001b[1;33m     configuration_path = _get_configuration_path(project_object, run_config_object._name,\n\u001b[0m\u001b[0;32m    139\u001b[0m                                                  config_type=RUNCONFIGURATION_EXTENSION)\n\u001b[0;32m    140\u001b[0m     \u001b[0mconfiguration_path\u001b[0m \u001b[1;33m=\u001b[0m \u001b[0mnormalize_windows_paths\u001b[0m\u001b[1;33m(\u001b[0m\u001b[0mconfiguration_path\u001b[0m\u001b[1;33m)\u001b[0m\u001b[1;33m\u001b[0m\u001b[1;33m\u001b[0m\u001b[0m\n",
      "\u001b[1;32m~\\miniconda3\\envs\\torch\\lib\\site-packages\\azureml\\_execution\\_commands.py\u001b[0m in \u001b[0;36m_get_configuration_path\u001b[1;34m(project_object, name, config_type)\u001b[0m\n\u001b[0;32m    672\u001b[0m \u001b[1;33m\u001b[0m\u001b[0m\n\u001b[0;32m    673\u001b[0m \u001b[1;32mdef\u001b[0m \u001b[0m_get_configuration_path\u001b[0m\u001b[1;33m(\u001b[0m\u001b[0mproject_object\u001b[0m\u001b[1;33m,\u001b[0m \u001b[0mname\u001b[0m\u001b[1;33m,\u001b[0m \u001b[0mconfig_type\u001b[0m\u001b[1;33m)\u001b[0m\u001b[1;33m:\u001b[0m\u001b[1;33m\u001b[0m\u001b[1;33m\u001b[0m\u001b[0m\n\u001b[1;32m--> 674\u001b[1;33m     \u001b[0mfiles\u001b[0m \u001b[1;33m=\u001b[0m \u001b[0mget_project_files\u001b[0m\u001b[1;33m(\u001b[0m\u001b[0mproject_object\u001b[0m\u001b[1;33m.\u001b[0m\u001b[0mproject_directory\u001b[0m\u001b[1;33m,\u001b[0m \u001b[0mconfig_type\u001b[0m\u001b[1;33m)\u001b[0m\u001b[1;33m\u001b[0m\u001b[1;33m\u001b[0m\u001b[0m\n\u001b[0m\u001b[0;32m    675\u001b[0m     \u001b[1;32mif\u001b[0m \u001b[0mname\u001b[0m \u001b[1;32mnot\u001b[0m \u001b[1;32min\u001b[0m \u001b[0mfiles\u001b[0m\u001b[1;33m:\u001b[0m\u001b[1;33m\u001b[0m\u001b[1;33m\u001b[0m\u001b[0m\n\u001b[0;32m    676\u001b[0m         \u001b[1;32mreturn\u001b[0m \u001b[1;32mNone\u001b[0m\u001b[1;33m\u001b[0m\u001b[1;33m\u001b[0m\u001b[0m\n",
      "\u001b[1;32m~\\miniconda3\\envs\\torch\\lib\\site-packages\\azureml\\_base_sdk_common\\common.py\u001b[0m in \u001b[0;36mget_project_files\u001b[1;34m(name, suffix)\u001b[0m\n\u001b[0;32m    465\u001b[0m     \u001b[0mtargets\u001b[0m \u001b[1;33m=\u001b[0m \u001b[1;33m[\u001b[0m\u001b[1;33m]\u001b[0m\u001b[1;33m\u001b[0m\u001b[1;33m\u001b[0m\u001b[0m\n\u001b[0;32m    466\u001b[0m     \u001b[0mrun_config_path\u001b[0m \u001b[1;33m=\u001b[0m \u001b[0mget_run_config_dir_path_if_exists\u001b[0m\u001b[1;33m(\u001b[0m\u001b[0mname\u001b[0m\u001b[1;33m)\u001b[0m\u001b[1;33m\u001b[0m\u001b[1;33m\u001b[0m\u001b[0m\n\u001b[1;32m--> 467\u001b[1;33m     \u001b[0mfiles\u001b[0m \u001b[1;33m=\u001b[0m \u001b[1;33m[\u001b[0m\u001b[0mf\u001b[0m \u001b[1;32mfor\u001b[0m \u001b[0mf\u001b[0m \u001b[1;32min\u001b[0m \u001b[0mlistdir\u001b[0m\u001b[1;33m(\u001b[0m\u001b[0mrun_config_path\u001b[0m\u001b[1;33m)\u001b[0m \u001b[1;32mif\u001b[0m \u001b[0misfile\u001b[0m\u001b[1;33m(\u001b[0m\u001b[0mjoin\u001b[0m\u001b[1;33m(\u001b[0m\u001b[0mrun_config_path\u001b[0m\u001b[1;33m,\u001b[0m \u001b[0mf\u001b[0m\u001b[1;33m)\u001b[0m\u001b[1;33m)\u001b[0m\u001b[1;33m]\u001b[0m\u001b[1;33m\u001b[0m\u001b[1;33m\u001b[0m\u001b[0m\n\u001b[0m\u001b[0;32m    468\u001b[0m     \u001b[1;32mfor\u001b[0m \u001b[0mfile\u001b[0m \u001b[1;32min\u001b[0m \u001b[0mfiles\u001b[0m\u001b[1;33m:\u001b[0m\u001b[1;33m\u001b[0m\u001b[1;33m\u001b[0m\u001b[0m\n\u001b[0;32m    469\u001b[0m         \u001b[1;32mif\u001b[0m \u001b[0mfile\u001b[0m\u001b[1;33m.\u001b[0m\u001b[0mendswith\u001b[0m\u001b[1;33m(\u001b[0m\u001b[0msuffix\u001b[0m\u001b[1;33m)\u001b[0m\u001b[1;33m:\u001b[0m\u001b[1;33m\u001b[0m\u001b[1;33m\u001b[0m\u001b[0m\n",
      "\u001b[1;31mFileNotFoundError\u001b[0m: [WinError 3] The system cannot find the path specified: 'C:\\\\Users\\\\Babar\\\\Downloads\\\\final_code\\\\master\\\\yolov5'"
     ]
    }
   ],
   "source": [
    "from azureml.core import ScriptRunConfig, Experiment\n",
    "# create or load an experiment\n",
    "experiment_name = \"test_experiment_dspd\"\n",
    "\n",
    "experiment = Experiment(ws, experiment_name)\n",
    "# create or retrieve a compute target\n",
    "#cluster = workspace.compute_targets['MyCluster']\n",
    "# create or retrieve an environment\n",
    "#env = Environment.get(ws, name='MyEnvironment')\n",
    "# configure and submit your training run\n",
    "config = ScriptRunConfig(source_directory='final_code/master/yolov5/',\n",
    "                         command=['python', 'train.py', '--img', '640', '--batch', '4', '--epochs', '1', '--data', './data/rpc.yaml', '--cfg', './models/yolov5l.yaml', '--weights', 'yolov5l.pt', '--name', 'yolov5l_rpc', '--cache'],\n",
    "                         compute_target=compute_target\n",
    "                         )\n",
    "script_run = experiment.submit(config)"
   ]
  },
  {
   "cell_type": "code",
   "execution_count": 19,
   "id": "standing-transmission",
   "metadata": {},
   "outputs": [
    {
     "name": "stdout",
     "output_type": "stream",
     "text": [
      "{'errors': [], 'creationTime': '2021-05-26T12:20:41.810103+00:00', 'createdBy': {'userObjectId': '5b89c604-c8f4-4342-a408-2fe826b0dab0', 'userTenantId': 'fee3b916-01c1-4987-a646-e193432b9eaa', 'userName': 'MUHAMMAD BABAR ZAIB - 23237'}, 'modifiedTime': '2021-05-26T12:23:58.060755+00:00', 'state': 'Stopped', 'vmSize': 'STANDARD_NC6'}\n"
     ]
    }
   ],
   "source": [
    "print(compute_target.get_status().serialize())"
   ]
  },
  {
   "cell_type": "code",
   "execution_count": null,
   "id": "mexican-lecture",
   "metadata": {},
   "outputs": [],
   "source": []
  },
  {
   "cell_type": "code",
   "execution_count": null,
   "id": "dominant-threat",
   "metadata": {},
   "outputs": [],
   "source": [
    "pip  install azureml-train-automl"
   ]
  },
  {
   "cell_type": "code",
   "execution_count": null,
   "id": "nutritional-flight",
   "metadata": {},
   "outputs": [],
   "source": []
  }
 ],
 "metadata": {
  "kernelspec": {
   "display_name": "Python 3.7 (pytorch)",
   "language": "python",
   "name": "pytorch"
  },
  "language_info": {
   "codemirror_mode": {
    "name": "ipython",
    "version": 3
   },
   "file_extension": ".py",
   "mimetype": "text/x-python",
   "name": "python",
   "nbconvert_exporter": "python",
   "pygments_lexer": "ipython3",
   "version": "3.8.8"
  }
 },
 "nbformat": 4,
 "nbformat_minor": 5
}

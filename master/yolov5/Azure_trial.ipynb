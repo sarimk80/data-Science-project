{
 "cells": [
  {
   "cell_type": "code",
   "execution_count": null,
   "id": "expected-peripheral",
   "metadata": {},
   "outputs": [],
   "source": [
    "export AZURE_STORAGE_CONNECTIONSTRING=\"DefaultEndpointsProtocol=https;AccountName=23237iba;AccountKey=0jdjVZ68D9aVSZqcVJOkrvV3X8+/kUZU/Lza3GKqzu4vhOdCuCLkg3SgV8DxEbymI/PrEFwkLXatr2RUg+vxrw==;EndpointSuffix=core.windows.net\""
   ]
  },
  {
   "cell_type": "code",
   "execution_count": null,
   "id": "billion-source",
   "metadata": {},
   "outputs": [],
   "source": [
    "#https://docs.microsoft.com/en-us/samples/azure-samples/azure-sdk-for-python-storage-blob-upload-download/upload-download-blobs-python/"
   ]
  },
  {
   "cell_type": "code",
   "execution_count": 1,
   "id": "ideal-parcel",
   "metadata": {},
   "outputs": [],
   "source": [
    "import os\n",
    "import sys\n",
    "from azure.storage.blob import BlockBlobService, PublicAccess"
   ]
  },
  {
   "cell_type": "code",
   "execution_count": 4,
   "id": "russian-disclaimer",
   "metadata": {},
   "outputs": [],
   "source": [
    "blob_service_client = BlockBlobService(\n",
    "            account_name='23237iba', account_key='0jdjVZ68D9aVSZqcVJOkrvV3X8+/kUZU/Lza3GKqzu4vhOdCuCLkg3SgV8DxEbymI/PrEFwkLXatr2RUg+vxrw==')"
   ]
  },
  {
   "cell_type": "code",
   "execution_count": 31,
   "id": "middle-assignment",
   "metadata": {},
   "outputs": [
    {
     "name": "stdout",
     "output_type": "stream",
     "text": [
      "\n",
      "List blobs in the container\n",
      "\t Blob name: price.csv\n"
     ]
    }
   ],
   "source": [
    "container_name = 'dspd-price-container'\n",
    "print(\"\\nList blobs in the container\")\n",
    "generator = blob_service_client.list_blobs(container_name)\n",
    "for blob in generator:\n",
    "    print(\"\\t Blob name: \" + blob.name)"
   ]
  },
  {
   "cell_type": "code",
   "execution_count": 30,
   "id": "legitimate-taiwan",
   "metadata": {},
   "outputs": [
    {
     "name": "stderr",
     "output_type": "stream",
     "text": [
      "Client-Request-ID=47c72529-c173-11eb-8fc1-e0d4e8c718a1 Retry policy did not allow for a retry: Server-Timestamp=Sun, 30 May 2021 18:17:22 GMT, Server-Request-ID=edc9c219-d01e-0087-5380-556ffd000000, HTTP status code=404, Exception=The specified blob does not exist. ErrorCode: BlobNotFound<?xml version=\"1.0\" encoding=\"utf-8\"?><Error><Code>BlobNotFound</Code><Message>The specified blob does not exist.RequestId:edc9c219-d01e-0087-5380-556ffd000000Time:2021-05-30T18:17:23.4552419Z</Message></Error>.\n"
     ]
    }
   ],
   "source": [
    "try:\n",
    "    blob_service_client.delete_blob(container_name, 'price.csv',delete_snapshots='include')\n",
    "except:\n",
    "    pass"
   ]
  },
  {
   "cell_type": "code",
   "execution_count": 12,
   "id": "useful-bernard",
   "metadata": {},
   "outputs": [],
   "source": [
    "import os"
   ]
  },
  {
   "cell_type": "code",
   "execution_count": 24,
   "id": "useful-device",
   "metadata": {},
   "outputs": [
    {
     "data": {
      "text/plain": [
       "<azure.storage.blob.models.ResourceProperties at 0x17c34f5a4c0>"
      ]
     },
     "execution_count": 24,
     "metadata": {},
     "output_type": "execute_result"
    }
   ],
   "source": [
    "folder_name = 'price'\n",
    "full_path_to_file = os.path.join(os.getcwd(),folder_name)\n",
    "full_path_to_file = os.path.join(full_path_to_file,'price.csv')\n",
    "blob_service_client.create_blob_from_path(\n",
    "            container_name, 'price.csv', full_path_to_file)"
   ]
  },
  {
   "cell_type": "code",
   "execution_count": 56,
   "id": "sorted-optimum",
   "metadata": {},
   "outputs": [
    {
     "name": "stdout",
     "output_type": "stream",
     "text": [
      "350\n"
     ]
    }
   ],
   "source": [
    "import pandas as pd\n",
    "user_price = pd.read_csv('price/price.csv')\n",
    "a = 50\n",
    "b =int(a+user_price.loc[user_price['Product_name']=='1_puffed_food',['Price']].values)\n",
    "print(b)"
   ]
  }
 ],
 "metadata": {
  "kernelspec": {
   "display_name": "Python 3.7 (pytorch)",
   "language": "python",
   "name": "pytorch"
  },
  "language_info": {
   "codemirror_mode": {
    "name": "ipython",
    "version": 3
   },
   "file_extension": ".py",
   "mimetype": "text/x-python",
   "name": "python",
   "nbconvert_exporter": "python",
   "pygments_lexer": "ipython3",
   "version": "3.8.8"
  }
 },
 "nbformat": 4,
 "nbformat_minor": 5
}
